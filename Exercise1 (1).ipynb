{
 "cells": [
  {
   "cell_type": "code",
   "execution_count": 1,
   "id": "5b2b528f-8d17-463a-92d5-56896dac7c87",
   "metadata": {},
   "outputs": [
    {
     "name": "stdout",
     "output_type": "stream",
     "text": [
      "Collecting gdown\n",
      "  Downloading gdown-5.1.0-py3-none-any.whl (17 kB)\n",
      "Collecting filelock\n",
      "  Downloading filelock-3.13.3-py3-none-any.whl (11 kB)\n",
      "Requirement already satisfied: tqdm in /opt/conda/lib/python3.9/site-packages (from gdown) (4.64.0)\n",
      "Requirement already satisfied: beautifulsoup4 in /opt/conda/lib/python3.9/site-packages (from gdown) (4.10.0)\n",
      "Requirement already satisfied: requests[socks] in /opt/conda/lib/python3.9/site-packages (from gdown) (2.27.1)\n",
      "Requirement already satisfied: soupsieve>1.2 in /opt/conda/lib/python3.9/site-packages (from beautifulsoup4->gdown) (2.3.1)\n",
      "Requirement already satisfied: charset-normalizer~=2.0.0 in /opt/conda/lib/python3.9/site-packages (from requests[socks]->gdown) (2.0.12)\n",
      "Requirement already satisfied: idna<4,>=2.5 in /opt/conda/lib/python3.9/site-packages (from requests[socks]->gdown) (3.3)\n",
      "Requirement already satisfied: urllib3<1.27,>=1.21.1 in /opt/conda/lib/python3.9/site-packages (from requests[socks]->gdown) (1.26.9)\n",
      "Requirement already satisfied: certifi>=2017.4.17 in /opt/conda/lib/python3.9/site-packages (from requests[socks]->gdown) (2021.10.8)\n",
      "Requirement already satisfied: PySocks!=1.5.7,>=1.5.6 in /opt/conda/lib/python3.9/site-packages (from requests[socks]->gdown) (1.7.1)\n",
      "Installing collected packages: filelock, gdown\n",
      "Successfully installed filelock-3.13.3 gdown-5.1.0\n",
      "Note: you may need to restart the kernel to use updated packages.\n"
     ]
    }
   ],
   "source": [
    "pip install gdown"
   ]
  },
  {
   "cell_type": "code",
   "execution_count": 73,
   "id": "25e0d8a8-ac1f-40c7-8baf-b14ca68879cc",
   "metadata": {},
   "outputs": [],
   "source": [
    "%matplotlib inline\n",
    "%config InlineBackend.figure_format = 'retina'\n",
    "from IPython.core.interactiveshell import InteractiveShell\n",
    "InteractiveShell.ast_node_interactivity = \"all\"\n",
    "import sys\n",
    "from pyspark.sql import SparkSession\n",
    "import os\n",
    "import gdown\n",
    "import pandas as pd\n",
    "from pyspark import SparkFiles"
   ]
  },
  {
   "cell_type": "code",
   "execution_count": 74,
   "id": "33c18d70-d574-47ea-a1f3-854ee0aa3e80",
   "metadata": {},
   "outputs": [
    {
     "ename": "ConnectionRefusedError",
     "evalue": "[Errno 111] Connection refused",
     "output_type": "error",
     "traceback": [
      "\u001b[0;31m---------------------------------------------------------------------------\u001b[0m",
      "\u001b[0;31mConnectionRefusedError\u001b[0m                    Traceback (most recent call last)",
      "Input \u001b[0;32mIn [74]\u001b[0m, in \u001b[0;36m<cell line: 1>\u001b[0;34m()\u001b[0m\n\u001b[0;32m----> 1\u001b[0m spark \u001b[38;5;241m=\u001b[39m \u001b[43mSparkSession\u001b[49m\u001b[38;5;241;43m.\u001b[39;49m\u001b[43mbuilder\u001b[49m\u001b[43m \u001b[49m\u001b[43m\\\u001b[49m\n\u001b[1;32m      2\u001b[0m \u001b[38;5;241;43m.\u001b[39;49m\u001b[43mmaster\u001b[49m\u001b[43m(\u001b[49m\u001b[38;5;124;43m\"\u001b[39;49m\u001b[38;5;124;43mlocal\u001b[39;49m\u001b[38;5;124;43m\"\u001b[39;49m\u001b[43m)\u001b[49m\u001b[43m \u001b[49m\u001b[43m\\\u001b[49m\n\u001b[1;32m      3\u001b[0m \u001b[38;5;241;43m.\u001b[39;49m\u001b[43mappName\u001b[49m\u001b[43m(\u001b[49m\u001b[38;5;124;43m\"\u001b[39;49m\u001b[38;5;124;43mExercise1\u001b[39;49m\u001b[38;5;124;43m\"\u001b[39;49m\u001b[43m)\u001b[49m\u001b[43m \u001b[49m\u001b[43m\\\u001b[49m\n\u001b[1;32m      4\u001b[0m \u001b[38;5;241;43m.\u001b[39;49m\u001b[43mgetOrCreate\u001b[49m\u001b[43m(\u001b[49m\u001b[43m)\u001b[49m\n",
      "File \u001b[0;32m/usr/local/spark/python/pyspark/sql/session.py:233\u001b[0m, in \u001b[0;36mSparkSession.Builder.getOrCreate\u001b[0;34m(self)\u001b[0m\n\u001b[1;32m    231\u001b[0m     session \u001b[38;5;241m=\u001b[39m SparkSession(sc)\n\u001b[1;32m    232\u001b[0m \u001b[38;5;28;01mfor\u001b[39;00m key, value \u001b[38;5;129;01min\u001b[39;00m \u001b[38;5;28mself\u001b[39m\u001b[38;5;241m.\u001b[39m_options\u001b[38;5;241m.\u001b[39mitems():\n\u001b[0;32m--> 233\u001b[0m     \u001b[43msession\u001b[49m\u001b[38;5;241;43m.\u001b[39;49m\u001b[43m_jsparkSession\u001b[49m\u001b[38;5;241;43m.\u001b[39;49m\u001b[43msessionState\u001b[49m\u001b[43m(\u001b[49m\u001b[43m)\u001b[49m\u001b[38;5;241m.\u001b[39mconf()\u001b[38;5;241m.\u001b[39msetConfString(key, value)\n\u001b[1;32m    234\u001b[0m \u001b[38;5;28;01mreturn\u001b[39;00m session\n",
      "File \u001b[0;32m/usr/local/spark/python/lib/py4j-0.10.9.3-src.zip/py4j/java_gateway.py:1320\u001b[0m, in \u001b[0;36mJavaMember.__call__\u001b[0;34m(self, *args)\u001b[0m\n\u001b[1;32m   1313\u001b[0m args_command, temp_args \u001b[38;5;241m=\u001b[39m \u001b[38;5;28mself\u001b[39m\u001b[38;5;241m.\u001b[39m_build_args(\u001b[38;5;241m*\u001b[39margs)\n\u001b[1;32m   1315\u001b[0m command \u001b[38;5;241m=\u001b[39m proto\u001b[38;5;241m.\u001b[39mCALL_COMMAND_NAME \u001b[38;5;241m+\u001b[39m\\\n\u001b[1;32m   1316\u001b[0m     \u001b[38;5;28mself\u001b[39m\u001b[38;5;241m.\u001b[39mcommand_header \u001b[38;5;241m+\u001b[39m\\\n\u001b[1;32m   1317\u001b[0m     args_command \u001b[38;5;241m+\u001b[39m\\\n\u001b[1;32m   1318\u001b[0m     proto\u001b[38;5;241m.\u001b[39mEND_COMMAND_PART\n\u001b[0;32m-> 1320\u001b[0m answer \u001b[38;5;241m=\u001b[39m \u001b[38;5;28;43mself\u001b[39;49m\u001b[38;5;241;43m.\u001b[39;49m\u001b[43mgateway_client\u001b[49m\u001b[38;5;241;43m.\u001b[39;49m\u001b[43msend_command\u001b[49m\u001b[43m(\u001b[49m\u001b[43mcommand\u001b[49m\u001b[43m)\u001b[49m\n\u001b[1;32m   1321\u001b[0m return_value \u001b[38;5;241m=\u001b[39m get_return_value(\n\u001b[1;32m   1322\u001b[0m     answer, \u001b[38;5;28mself\u001b[39m\u001b[38;5;241m.\u001b[39mgateway_client, \u001b[38;5;28mself\u001b[39m\u001b[38;5;241m.\u001b[39mtarget_id, \u001b[38;5;28mself\u001b[39m\u001b[38;5;241m.\u001b[39mname)\n\u001b[1;32m   1324\u001b[0m \u001b[38;5;28;01mfor\u001b[39;00m temp_arg \u001b[38;5;129;01min\u001b[39;00m temp_args:\n",
      "File \u001b[0;32m/usr/local/spark/python/lib/py4j-0.10.9.3-src.zip/py4j/java_gateway.py:1036\u001b[0m, in \u001b[0;36mGatewayClient.send_command\u001b[0;34m(self, command, retry, binary)\u001b[0m\n\u001b[1;32m   1015\u001b[0m \u001b[38;5;28;01mdef\u001b[39;00m \u001b[38;5;21msend_command\u001b[39m(\u001b[38;5;28mself\u001b[39m, command, retry\u001b[38;5;241m=\u001b[39m\u001b[38;5;28;01mTrue\u001b[39;00m, binary\u001b[38;5;241m=\u001b[39m\u001b[38;5;28;01mFalse\u001b[39;00m):\n\u001b[1;32m   1016\u001b[0m     \u001b[38;5;124;03m\"\"\"Sends a command to the JVM. This method is not intended to be\u001b[39;00m\n\u001b[1;32m   1017\u001b[0m \u001b[38;5;124;03m       called directly by Py4J users. It is usually called by\u001b[39;00m\n\u001b[1;32m   1018\u001b[0m \u001b[38;5;124;03m       :class:`JavaMember` instances.\u001b[39;00m\n\u001b[0;32m   (...)\u001b[0m\n\u001b[1;32m   1034\u001b[0m \u001b[38;5;124;03m     if `binary` is `True`.\u001b[39;00m\n\u001b[1;32m   1035\u001b[0m \u001b[38;5;124;03m    \"\"\"\u001b[39;00m\n\u001b[0;32m-> 1036\u001b[0m     connection \u001b[38;5;241m=\u001b[39m \u001b[38;5;28;43mself\u001b[39;49m\u001b[38;5;241;43m.\u001b[39;49m\u001b[43m_get_connection\u001b[49m\u001b[43m(\u001b[49m\u001b[43m)\u001b[49m\n\u001b[1;32m   1037\u001b[0m     \u001b[38;5;28;01mtry\u001b[39;00m:\n\u001b[1;32m   1038\u001b[0m         response \u001b[38;5;241m=\u001b[39m connection\u001b[38;5;241m.\u001b[39msend_command(command)\n",
      "File \u001b[0;32m/usr/local/spark/python/lib/py4j-0.10.9.3-src.zip/py4j/clientserver.py:281\u001b[0m, in \u001b[0;36mJavaClient._get_connection\u001b[0;34m(self)\u001b[0m\n\u001b[1;32m    278\u001b[0m     \u001b[38;5;28;01mpass\u001b[39;00m\n\u001b[1;32m    280\u001b[0m \u001b[38;5;28;01mif\u001b[39;00m connection \u001b[38;5;129;01mis\u001b[39;00m \u001b[38;5;28;01mNone\u001b[39;00m \u001b[38;5;129;01mor\u001b[39;00m connection\u001b[38;5;241m.\u001b[39msocket \u001b[38;5;129;01mis\u001b[39;00m \u001b[38;5;28;01mNone\u001b[39;00m:\n\u001b[0;32m--> 281\u001b[0m     connection \u001b[38;5;241m=\u001b[39m \u001b[38;5;28;43mself\u001b[39;49m\u001b[38;5;241;43m.\u001b[39;49m\u001b[43m_create_new_connection\u001b[49m\u001b[43m(\u001b[49m\u001b[43m)\u001b[49m\n\u001b[1;32m    282\u001b[0m \u001b[38;5;28;01mreturn\u001b[39;00m connection\n",
      "File \u001b[0;32m/usr/local/spark/python/lib/py4j-0.10.9.3-src.zip/py4j/clientserver.py:288\u001b[0m, in \u001b[0;36mJavaClient._create_new_connection\u001b[0;34m(self)\u001b[0m\n\u001b[1;32m    284\u001b[0m \u001b[38;5;28;01mdef\u001b[39;00m \u001b[38;5;21m_create_new_connection\u001b[39m(\u001b[38;5;28mself\u001b[39m):\n\u001b[1;32m    285\u001b[0m     connection \u001b[38;5;241m=\u001b[39m ClientServerConnection(\n\u001b[1;32m    286\u001b[0m         \u001b[38;5;28mself\u001b[39m\u001b[38;5;241m.\u001b[39mjava_parameters, \u001b[38;5;28mself\u001b[39m\u001b[38;5;241m.\u001b[39mpython_parameters,\n\u001b[1;32m    287\u001b[0m         \u001b[38;5;28mself\u001b[39m\u001b[38;5;241m.\u001b[39mgateway_property, \u001b[38;5;28mself\u001b[39m)\n\u001b[0;32m--> 288\u001b[0m     \u001b[43mconnection\u001b[49m\u001b[38;5;241;43m.\u001b[39;49m\u001b[43mconnect_to_java_server\u001b[49m\u001b[43m(\u001b[49m\u001b[43m)\u001b[49m\n\u001b[1;32m    289\u001b[0m     \u001b[38;5;28mself\u001b[39m\u001b[38;5;241m.\u001b[39mset_thread_connection(connection)\n\u001b[1;32m    290\u001b[0m     \u001b[38;5;28;01mreturn\u001b[39;00m connection\n",
      "File \u001b[0;32m/usr/local/spark/python/lib/py4j-0.10.9.3-src.zip/py4j/clientserver.py:402\u001b[0m, in \u001b[0;36mClientServerConnection.connect_to_java_server\u001b[0;34m(self)\u001b[0m\n\u001b[1;32m    399\u001b[0m \u001b[38;5;28;01mif\u001b[39;00m \u001b[38;5;28mself\u001b[39m\u001b[38;5;241m.\u001b[39mssl_context:\n\u001b[1;32m    400\u001b[0m     \u001b[38;5;28mself\u001b[39m\u001b[38;5;241m.\u001b[39msocket \u001b[38;5;241m=\u001b[39m \u001b[38;5;28mself\u001b[39m\u001b[38;5;241m.\u001b[39mssl_context\u001b[38;5;241m.\u001b[39mwrap_socket(\n\u001b[1;32m    401\u001b[0m         \u001b[38;5;28mself\u001b[39m\u001b[38;5;241m.\u001b[39msocket, server_hostname\u001b[38;5;241m=\u001b[39m\u001b[38;5;28mself\u001b[39m\u001b[38;5;241m.\u001b[39mjava_address)\n\u001b[0;32m--> 402\u001b[0m \u001b[38;5;28;43mself\u001b[39;49m\u001b[38;5;241;43m.\u001b[39;49m\u001b[43msocket\u001b[49m\u001b[38;5;241;43m.\u001b[39;49m\u001b[43mconnect\u001b[49m\u001b[43m(\u001b[49m\u001b[43m(\u001b[49m\u001b[38;5;28;43mself\u001b[39;49m\u001b[38;5;241;43m.\u001b[39;49m\u001b[43mjava_address\u001b[49m\u001b[43m,\u001b[49m\u001b[43m \u001b[49m\u001b[38;5;28;43mself\u001b[39;49m\u001b[38;5;241;43m.\u001b[39;49m\u001b[43mjava_port\u001b[49m\u001b[43m)\u001b[49m\u001b[43m)\u001b[49m\n\u001b[1;32m    403\u001b[0m \u001b[38;5;28mself\u001b[39m\u001b[38;5;241m.\u001b[39mstream \u001b[38;5;241m=\u001b[39m \u001b[38;5;28mself\u001b[39m\u001b[38;5;241m.\u001b[39msocket\u001b[38;5;241m.\u001b[39mmakefile(\u001b[38;5;124m\"\u001b[39m\u001b[38;5;124mrb\u001b[39m\u001b[38;5;124m\"\u001b[39m)\n\u001b[1;32m    404\u001b[0m \u001b[38;5;28mself\u001b[39m\u001b[38;5;241m.\u001b[39mis_connected \u001b[38;5;241m=\u001b[39m \u001b[38;5;28;01mTrue\u001b[39;00m\n",
      "\u001b[0;31mConnectionRefusedError\u001b[0m: [Errno 111] Connection refused"
     ]
    }
   ],
   "source": [
    "spark = SparkSession.builder \\\n",
    ".master(\"local\") \\\n",
    ".appName(\"Exercise1\") \\\n",
    ".getOrCreate()"
   ]
  },
  {
   "cell_type": "code",
   "execution_count": 4,
   "id": "5a22d061-aea1-481d-be1f-80bd94cb769a",
   "metadata": {},
   "outputs": [
    {
     "name": "stderr",
     "output_type": "stream",
     "text": [
      "Downloading...\n",
      "From: https://drive.google.com/uc?id=1YLo060ccO-JNBJ7Cn_DT_y0LTkps-0Lg\n",
      "To: /home/jovyan/exampleData.csv\n",
      "100%|██████████| 17.4M/17.4M [00:00<00:00, 77.0MB/s]\n"
     ]
    },
    {
     "data": {
      "text/plain": [
       "'exampleData.csv'"
      ]
     },
     "execution_count": 4,
     "metadata": {},
     "output_type": "execute_result"
    }
   ],
   "source": [
    "csvPath = 'exampleData.csv'\n",
    "if not os.path.exists(csvPath):\n",
    "    gdown.download(id = \"1YLo060ccO-JNBJ7Cn_DT_y0LTkps-0Lg\", output=csvPath, quiet=False)"
   ]
  },
  {
   "cell_type": "code",
   "execution_count": 72,
   "id": "3e1ecd5c-511e-4f53-9667-e5aafbdb4518",
   "metadata": {},
   "outputs": [
    {
     "ename": "ConnectionRefusedError",
     "evalue": "[Errno 111] Connection refused",
     "output_type": "error",
     "traceback": [
      "\u001b[0;31m---------------------------------------------------------------------------\u001b[0m",
      "\u001b[0;31mConnectionRefusedError\u001b[0m                    Traceback (most recent call last)",
      "Input \u001b[0;32mIn [72]\u001b[0m, in \u001b[0;36m<cell line: 1>\u001b[0;34m()\u001b[0m\n\u001b[0;32m----> 1\u001b[0m df \u001b[38;5;241m=\u001b[39m \u001b[43mspark\u001b[49m\u001b[38;5;241;43m.\u001b[39;49m\u001b[43mread\u001b[49m\u001b[38;5;241m.\u001b[39mcsv(\u001b[38;5;124m\"\u001b[39m\u001b[38;5;124mexampleData.csv\u001b[39m\u001b[38;5;124m\"\u001b[39m, header\u001b[38;5;241m=\u001b[39m\u001b[38;5;28;01mTrue\u001b[39;00m, inferSchema\u001b[38;5;241m=\u001b[39m\u001b[38;5;28;01mTrue\u001b[39;00m)\n",
      "File \u001b[0;32m/usr/local/spark/python/pyspark/sql/session.py:755\u001b[0m, in \u001b[0;36mSparkSession.read\u001b[0;34m(self)\u001b[0m\n\u001b[1;32m    743\u001b[0m \u001b[38;5;129m@property\u001b[39m\n\u001b[1;32m    744\u001b[0m \u001b[38;5;28;01mdef\u001b[39;00m \u001b[38;5;21mread\u001b[39m(\u001b[38;5;28mself\u001b[39m):\n\u001b[1;32m    745\u001b[0m     \u001b[38;5;124;03m\"\"\"\u001b[39;00m\n\u001b[1;32m    746\u001b[0m \u001b[38;5;124;03m    Returns a :class:`DataFrameReader` that can be used to read data\u001b[39;00m\n\u001b[1;32m    747\u001b[0m \u001b[38;5;124;03m    in as a :class:`DataFrame`.\u001b[39;00m\n\u001b[0;32m   (...)\u001b[0m\n\u001b[1;32m    753\u001b[0m \u001b[38;5;124;03m    :class:`DataFrameReader`\u001b[39;00m\n\u001b[1;32m    754\u001b[0m \u001b[38;5;124;03m    \"\"\"\u001b[39;00m\n\u001b[0;32m--> 755\u001b[0m     \u001b[38;5;28;01mreturn\u001b[39;00m \u001b[43mDataFrameReader\u001b[49m\u001b[43m(\u001b[49m\u001b[38;5;28;43mself\u001b[39;49m\u001b[38;5;241;43m.\u001b[39;49m\u001b[43m_wrapped\u001b[49m\u001b[43m)\u001b[49m\n",
      "File \u001b[0;32m/usr/local/spark/python/pyspark/sql/readwriter.py:53\u001b[0m, in \u001b[0;36mDataFrameReader.__init__\u001b[0;34m(self, spark)\u001b[0m\n\u001b[1;32m     52\u001b[0m \u001b[38;5;28;01mdef\u001b[39;00m \u001b[38;5;21m__init__\u001b[39m(\u001b[38;5;28mself\u001b[39m, spark):\n\u001b[0;32m---> 53\u001b[0m     \u001b[38;5;28mself\u001b[39m\u001b[38;5;241m.\u001b[39m_jreader \u001b[38;5;241m=\u001b[39m \u001b[43mspark\u001b[49m\u001b[38;5;241;43m.\u001b[39;49m\u001b[43m_ssql_ctx\u001b[49m\u001b[38;5;241;43m.\u001b[39;49m\u001b[43mread\u001b[49m\u001b[43m(\u001b[49m\u001b[43m)\u001b[49m\n\u001b[1;32m     54\u001b[0m     \u001b[38;5;28mself\u001b[39m\u001b[38;5;241m.\u001b[39m_spark \u001b[38;5;241m=\u001b[39m spark\n",
      "File \u001b[0;32m/usr/local/spark/python/lib/py4j-0.10.9.3-src.zip/py4j/java_gateway.py:1320\u001b[0m, in \u001b[0;36mJavaMember.__call__\u001b[0;34m(self, *args)\u001b[0m\n\u001b[1;32m   1313\u001b[0m args_command, temp_args \u001b[38;5;241m=\u001b[39m \u001b[38;5;28mself\u001b[39m\u001b[38;5;241m.\u001b[39m_build_args(\u001b[38;5;241m*\u001b[39margs)\n\u001b[1;32m   1315\u001b[0m command \u001b[38;5;241m=\u001b[39m proto\u001b[38;5;241m.\u001b[39mCALL_COMMAND_NAME \u001b[38;5;241m+\u001b[39m\\\n\u001b[1;32m   1316\u001b[0m     \u001b[38;5;28mself\u001b[39m\u001b[38;5;241m.\u001b[39mcommand_header \u001b[38;5;241m+\u001b[39m\\\n\u001b[1;32m   1317\u001b[0m     args_command \u001b[38;5;241m+\u001b[39m\\\n\u001b[1;32m   1318\u001b[0m     proto\u001b[38;5;241m.\u001b[39mEND_COMMAND_PART\n\u001b[0;32m-> 1320\u001b[0m answer \u001b[38;5;241m=\u001b[39m \u001b[38;5;28;43mself\u001b[39;49m\u001b[38;5;241;43m.\u001b[39;49m\u001b[43mgateway_client\u001b[49m\u001b[38;5;241;43m.\u001b[39;49m\u001b[43msend_command\u001b[49m\u001b[43m(\u001b[49m\u001b[43mcommand\u001b[49m\u001b[43m)\u001b[49m\n\u001b[1;32m   1321\u001b[0m return_value \u001b[38;5;241m=\u001b[39m get_return_value(\n\u001b[1;32m   1322\u001b[0m     answer, \u001b[38;5;28mself\u001b[39m\u001b[38;5;241m.\u001b[39mgateway_client, \u001b[38;5;28mself\u001b[39m\u001b[38;5;241m.\u001b[39mtarget_id, \u001b[38;5;28mself\u001b[39m\u001b[38;5;241m.\u001b[39mname)\n\u001b[1;32m   1324\u001b[0m \u001b[38;5;28;01mfor\u001b[39;00m temp_arg \u001b[38;5;129;01min\u001b[39;00m temp_args:\n",
      "File \u001b[0;32m/usr/local/spark/python/lib/py4j-0.10.9.3-src.zip/py4j/java_gateway.py:1036\u001b[0m, in \u001b[0;36mGatewayClient.send_command\u001b[0;34m(self, command, retry, binary)\u001b[0m\n\u001b[1;32m   1015\u001b[0m \u001b[38;5;28;01mdef\u001b[39;00m \u001b[38;5;21msend_command\u001b[39m(\u001b[38;5;28mself\u001b[39m, command, retry\u001b[38;5;241m=\u001b[39m\u001b[38;5;28;01mTrue\u001b[39;00m, binary\u001b[38;5;241m=\u001b[39m\u001b[38;5;28;01mFalse\u001b[39;00m):\n\u001b[1;32m   1016\u001b[0m     \u001b[38;5;124;03m\"\"\"Sends a command to the JVM. This method is not intended to be\u001b[39;00m\n\u001b[1;32m   1017\u001b[0m \u001b[38;5;124;03m       called directly by Py4J users. It is usually called by\u001b[39;00m\n\u001b[1;32m   1018\u001b[0m \u001b[38;5;124;03m       :class:`JavaMember` instances.\u001b[39;00m\n\u001b[0;32m   (...)\u001b[0m\n\u001b[1;32m   1034\u001b[0m \u001b[38;5;124;03m     if `binary` is `True`.\u001b[39;00m\n\u001b[1;32m   1035\u001b[0m \u001b[38;5;124;03m    \"\"\"\u001b[39;00m\n\u001b[0;32m-> 1036\u001b[0m     connection \u001b[38;5;241m=\u001b[39m \u001b[38;5;28;43mself\u001b[39;49m\u001b[38;5;241;43m.\u001b[39;49m\u001b[43m_get_connection\u001b[49m\u001b[43m(\u001b[49m\u001b[43m)\u001b[49m\n\u001b[1;32m   1037\u001b[0m     \u001b[38;5;28;01mtry\u001b[39;00m:\n\u001b[1;32m   1038\u001b[0m         response \u001b[38;5;241m=\u001b[39m connection\u001b[38;5;241m.\u001b[39msend_command(command)\n",
      "File \u001b[0;32m/usr/local/spark/python/lib/py4j-0.10.9.3-src.zip/py4j/clientserver.py:281\u001b[0m, in \u001b[0;36mJavaClient._get_connection\u001b[0;34m(self)\u001b[0m\n\u001b[1;32m    278\u001b[0m     \u001b[38;5;28;01mpass\u001b[39;00m\n\u001b[1;32m    280\u001b[0m \u001b[38;5;28;01mif\u001b[39;00m connection \u001b[38;5;129;01mis\u001b[39;00m \u001b[38;5;28;01mNone\u001b[39;00m \u001b[38;5;129;01mor\u001b[39;00m connection\u001b[38;5;241m.\u001b[39msocket \u001b[38;5;129;01mis\u001b[39;00m \u001b[38;5;28;01mNone\u001b[39;00m:\n\u001b[0;32m--> 281\u001b[0m     connection \u001b[38;5;241m=\u001b[39m \u001b[38;5;28;43mself\u001b[39;49m\u001b[38;5;241;43m.\u001b[39;49m\u001b[43m_create_new_connection\u001b[49m\u001b[43m(\u001b[49m\u001b[43m)\u001b[49m\n\u001b[1;32m    282\u001b[0m \u001b[38;5;28;01mreturn\u001b[39;00m connection\n",
      "File \u001b[0;32m/usr/local/spark/python/lib/py4j-0.10.9.3-src.zip/py4j/clientserver.py:288\u001b[0m, in \u001b[0;36mJavaClient._create_new_connection\u001b[0;34m(self)\u001b[0m\n\u001b[1;32m    284\u001b[0m \u001b[38;5;28;01mdef\u001b[39;00m \u001b[38;5;21m_create_new_connection\u001b[39m(\u001b[38;5;28mself\u001b[39m):\n\u001b[1;32m    285\u001b[0m     connection \u001b[38;5;241m=\u001b[39m ClientServerConnection(\n\u001b[1;32m    286\u001b[0m         \u001b[38;5;28mself\u001b[39m\u001b[38;5;241m.\u001b[39mjava_parameters, \u001b[38;5;28mself\u001b[39m\u001b[38;5;241m.\u001b[39mpython_parameters,\n\u001b[1;32m    287\u001b[0m         \u001b[38;5;28mself\u001b[39m\u001b[38;5;241m.\u001b[39mgateway_property, \u001b[38;5;28mself\u001b[39m)\n\u001b[0;32m--> 288\u001b[0m     \u001b[43mconnection\u001b[49m\u001b[38;5;241;43m.\u001b[39;49m\u001b[43mconnect_to_java_server\u001b[49m\u001b[43m(\u001b[49m\u001b[43m)\u001b[49m\n\u001b[1;32m    289\u001b[0m     \u001b[38;5;28mself\u001b[39m\u001b[38;5;241m.\u001b[39mset_thread_connection(connection)\n\u001b[1;32m    290\u001b[0m     \u001b[38;5;28;01mreturn\u001b[39;00m connection\n",
      "File \u001b[0;32m/usr/local/spark/python/lib/py4j-0.10.9.3-src.zip/py4j/clientserver.py:402\u001b[0m, in \u001b[0;36mClientServerConnection.connect_to_java_server\u001b[0;34m(self)\u001b[0m\n\u001b[1;32m    399\u001b[0m \u001b[38;5;28;01mif\u001b[39;00m \u001b[38;5;28mself\u001b[39m\u001b[38;5;241m.\u001b[39mssl_context:\n\u001b[1;32m    400\u001b[0m     \u001b[38;5;28mself\u001b[39m\u001b[38;5;241m.\u001b[39msocket \u001b[38;5;241m=\u001b[39m \u001b[38;5;28mself\u001b[39m\u001b[38;5;241m.\u001b[39mssl_context\u001b[38;5;241m.\u001b[39mwrap_socket(\n\u001b[1;32m    401\u001b[0m         \u001b[38;5;28mself\u001b[39m\u001b[38;5;241m.\u001b[39msocket, server_hostname\u001b[38;5;241m=\u001b[39m\u001b[38;5;28mself\u001b[39m\u001b[38;5;241m.\u001b[39mjava_address)\n\u001b[0;32m--> 402\u001b[0m \u001b[38;5;28;43mself\u001b[39;49m\u001b[38;5;241;43m.\u001b[39;49m\u001b[43msocket\u001b[49m\u001b[38;5;241;43m.\u001b[39;49m\u001b[43mconnect\u001b[49m\u001b[43m(\u001b[49m\u001b[43m(\u001b[49m\u001b[38;5;28;43mself\u001b[39;49m\u001b[38;5;241;43m.\u001b[39;49m\u001b[43mjava_address\u001b[49m\u001b[43m,\u001b[49m\u001b[43m \u001b[49m\u001b[38;5;28;43mself\u001b[39;49m\u001b[38;5;241;43m.\u001b[39;49m\u001b[43mjava_port\u001b[49m\u001b[43m)\u001b[49m\u001b[43m)\u001b[49m\n\u001b[1;32m    403\u001b[0m \u001b[38;5;28mself\u001b[39m\u001b[38;5;241m.\u001b[39mstream \u001b[38;5;241m=\u001b[39m \u001b[38;5;28mself\u001b[39m\u001b[38;5;241m.\u001b[39msocket\u001b[38;5;241m.\u001b[39mmakefile(\u001b[38;5;124m\"\u001b[39m\u001b[38;5;124mrb\u001b[39m\u001b[38;5;124m\"\u001b[39m)\n\u001b[1;32m    404\u001b[0m \u001b[38;5;28mself\u001b[39m\u001b[38;5;241m.\u001b[39mis_connected \u001b[38;5;241m=\u001b[39m \u001b[38;5;28;01mTrue\u001b[39;00m\n",
      "\u001b[0;31mConnectionRefusedError\u001b[0m: [Errno 111] Connection refused"
     ]
    }
   ],
   "source": [
    "df = spark.read.csv(\"exampleData.csv\", header=True, inferSchema=True)"
   ]
  },
  {
   "cell_type": "code",
   "execution_count": 6,
   "id": "2b8034e9-1a6e-4f77-b443-a7dc5492499e",
   "metadata": {},
   "outputs": [
    {
     "name": "stdout",
     "output_type": "stream",
     "text": [
      "-RECORD 0--------------------------------\n",
      " _c0                 | 14                \n",
      " dateTime            | 01-jan-1990 00:00 \n",
      " indicator_rain      | 0                 \n",
      " precipitation       | 0.3               \n",
      " indicator_temp      | 0                 \n",
      " air_temperature     | 9.1               \n",
      " indicator_wetb      | 0                 \n",
      " wetb                | 9.0               \n",
      " dewpt               | 8.9               \n",
      " vappr               | 11.4              \n",
      " relative_humidity   | 99                \n",
      " msl                 | 1006.7            \n",
      " indicator_wdsp      | 2                 \n",
      " wind_speed          | 7                 \n",
      " indicator_wddir     | 2                 \n",
      " wind_from_direction | 190               \n",
      "-RECORD 1--------------------------------\n",
      " _c0                 | 15                \n",
      " dateTime            | 01-jan-1990 01:00 \n",
      " indicator_rain      | 0                 \n",
      " precipitation       | 0.2               \n",
      " indicator_temp      | 0                 \n",
      " air_temperature     | 8.2               \n",
      " indicator_wetb      | 0                 \n",
      " wetb                | 7.4               \n",
      " dewpt               | 6.4               \n",
      " vappr               | 9.7               \n",
      " relative_humidity   | 89                \n",
      " msl                 | 1006.7            \n",
      " indicator_wdsp      | 2                 \n",
      " wind_speed          | 5                 \n",
      " indicator_wddir     | 2                 \n",
      " wind_from_direction | 220               \n",
      "-RECORD 2--------------------------------\n",
      " _c0                 | 16                \n",
      " dateTime            | 01-jan-1990 02:00 \n",
      " indicator_rain      | 0                 \n",
      " precipitation       | 0.0               \n",
      " indicator_temp      | 0                 \n",
      " air_temperature     | 7.9               \n",
      " indicator_wetb      | 0                 \n",
      " wetb                | 7.4               \n",
      " dewpt               | 6.8               \n",
      " vappr               | 9.9               \n",
      " relative_humidity   | 93                \n",
      " msl                 | 1006.9            \n",
      " indicator_wdsp      | 2                 \n",
      " wind_speed          | 1                 \n",
      " indicator_wddir     | 2                 \n",
      " wind_from_direction | 190               \n",
      "-RECORD 3--------------------------------\n",
      " _c0                 | 17                \n",
      " dateTime            | 01-jan-1990 03:00 \n",
      " indicator_rain      | 3                 \n",
      " precipitation       | 0.0               \n",
      " indicator_temp      | 0                 \n",
      " air_temperature     | 7.8               \n",
      " indicator_wetb      | 0                 \n",
      " wetb                | 7.5               \n",
      " dewpt               | 7.1               \n",
      " vappr               | 10.1              \n",
      " relative_humidity   | 96                \n",
      " msl                 | 1007.1            \n",
      " indicator_wdsp      | 2                 \n",
      " wind_speed          | 1                 \n",
      " indicator_wddir     | 2                 \n",
      " wind_from_direction | 190               \n",
      "-RECORD 4--------------------------------\n",
      " _c0                 | 18                \n",
      " dateTime            | 01-jan-1990 04:00 \n",
      " indicator_rain      | 3                 \n",
      " precipitation       | 0.0               \n",
      " indicator_temp      | 0                 \n",
      " air_temperature     | 8.0               \n",
      " indicator_wetb      | 0                 \n",
      " wetb                | 7.3               \n",
      " dewpt               | 6.5               \n",
      " vappr               | 9.7               \n",
      " relative_humidity   | 90                \n",
      " msl                 | 1007.3            \n",
      " indicator_wdsp      | 2                 \n",
      " wind_speed          | 2                 \n",
      " indicator_wddir     | 2                 \n",
      " wind_from_direction | 220               \n",
      "-RECORD 5--------------------------------\n",
      " _c0                 | 19                \n",
      " dateTime            | 01-jan-1990 05:00 \n",
      " indicator_rain      | 0                 \n",
      " precipitation       | 0.0               \n",
      " indicator_temp      | 0                 \n",
      " air_temperature     | 7.6               \n",
      " indicator_wetb      | 0                 \n",
      " wetb                | 7.0               \n",
      " dewpt               | 6.3               \n",
      " vappr               | 9.5               \n",
      " relative_humidity   | 91                \n",
      " msl                 | 1007.4            \n",
      " indicator_wdsp      | 2                 \n",
      " wind_speed          | 3                 \n",
      " indicator_wddir     | 2                 \n",
      " wind_from_direction | 220               \n",
      "-RECORD 6--------------------------------\n",
      " _c0                 | 20                \n",
      " dateTime            | 01-jan-1990 06:00 \n",
      " indicator_rain      | 2                 \n",
      " precipitation       | 0.0               \n",
      " indicator_temp      | 0                 \n",
      " air_temperature     | 7.4               \n",
      " indicator_wetb      | 0                 \n",
      " wetb                | 6.8               \n",
      " dewpt               | 6.1               \n",
      " vappr               | 9.4               \n",
      " relative_humidity   | 91                \n",
      " msl                 | 1008.1            \n",
      " indicator_wdsp      | 2                 \n",
      " wind_speed          | 1                 \n",
      " indicator_wddir     | 2                 \n",
      " wind_from_direction | 220               \n",
      "-RECORD 7--------------------------------\n",
      " _c0                 | 21                \n",
      " dateTime            | 01-jan-1990 07:00 \n",
      " indicator_rain      | 2                 \n",
      " precipitation       | 0.0               \n",
      " indicator_temp      | 0                 \n",
      " air_temperature     | 6.8               \n",
      " indicator_wetb      | 0                 \n",
      " wetb                | 6.0               \n",
      " dewpt               | 5.0               \n",
      " vappr               | 8.7               \n",
      " relative_humidity   | 88                \n",
      " msl                 | 1008.3            \n",
      " indicator_wdsp      | 2                 \n",
      " wind_speed          | 4                 \n",
      " indicator_wddir     | 2                 \n",
      " wind_from_direction | 230               \n",
      "-RECORD 8--------------------------------\n",
      " _c0                 | 22                \n",
      " dateTime            | 01-jan-1990 08:00 \n",
      " indicator_rain      | 2                 \n",
      " precipitation       | 0.0               \n",
      " indicator_temp      | 0                 \n",
      " air_temperature     | 6.8               \n",
      " indicator_wetb      | 0                 \n",
      " wetb                | 6.2               \n",
      " dewpt               | 5.5               \n",
      " vappr               | 9.0               \n",
      " relative_humidity   | 91                \n",
      " msl                 | 1008.8            \n",
      " indicator_wdsp      | 2                 \n",
      " wind_speed          | 2                 \n",
      " indicator_wddir     | 2                 \n",
      " wind_from_direction | 180               \n",
      "-RECORD 9--------------------------------\n",
      " _c0                 | 23                \n",
      " dateTime            | 01-jan-1990 09:00 \n",
      " indicator_rain      | 0                 \n",
      " precipitation       | 0.0               \n",
      " indicator_temp      | 0                 \n",
      " air_temperature     | 7.2               \n",
      " indicator_wetb      | 0                 \n",
      " wetb                | 6.1               \n",
      " dewpt               | 4.7               \n",
      " vappr               | 8.5               \n",
      " relative_humidity   | 84                \n",
      " msl                 | 1009.4            \n",
      " indicator_wdsp      | 2                 \n",
      " wind_speed          | 1                 \n",
      " indicator_wddir     | 2                 \n",
      " wind_from_direction | 210               \n",
      "-RECORD 10-------------------------------\n",
      " _c0                 | 24                \n",
      " dateTime            | 01-jan-1990 10:00 \n",
      " indicator_rain      | 0                 \n",
      " precipitation       | 0.0               \n",
      " indicator_temp      | 0                 \n",
      " air_temperature     | 7.6               \n",
      " indicator_wetb      | 0                 \n",
      " wetb                | 6.1               \n",
      " dewpt               | 4.2               \n",
      " vappr               | 8.2               \n",
      " relative_humidity   | 79                \n",
      " msl                 | 1009.7            \n",
      " indicator_wdsp      | 2                 \n",
      " wind_speed          | 1                 \n",
      " indicator_wddir     | 2                 \n",
      " wind_from_direction | 210               \n",
      "-RECORD 11-------------------------------\n",
      " _c0                 | 25                \n",
      " dateTime            | 01-jan-1990 11:00 \n",
      " indicator_rain      | 0                 \n",
      " precipitation       | 0.0               \n",
      " indicator_temp      | 0                 \n",
      " air_temperature     | 8.0               \n",
      " indicator_wetb      | 0                 \n",
      " wetb                | 6.6               \n",
      " dewpt               | 4.8               \n",
      " vappr               | 8.6               \n",
      " relative_humidity   | 80                \n",
      " msl                 | 1010.2            \n",
      " indicator_wdsp      | 2                 \n",
      " wind_speed          | 5                 \n",
      " indicator_wddir     | 2                 \n",
      " wind_from_direction | 210               \n",
      "-RECORD 12-------------------------------\n",
      " _c0                 | 26                \n",
      " dateTime            | 01-jan-1990 12:00 \n",
      " indicator_rain      | 0                 \n",
      " precipitation       | 0.0               \n",
      " indicator_temp      | 0                 \n",
      " air_temperature     | 9.5               \n",
      " indicator_wetb      | 0                 \n",
      " wetb                | 7.8               \n",
      " dewpt               | 5.8               \n",
      " vappr               | 9.2               \n",
      " relative_humidity   | 78                \n",
      " msl                 | 1010.3            \n",
      " indicator_wdsp      | 2                 \n",
      " wind_speed          | 7                 \n",
      " indicator_wddir     | 2                 \n",
      " wind_from_direction | 200               \n",
      "-RECORD 13-------------------------------\n",
      " _c0                 | 27                \n",
      " dateTime            | 01-jan-1990 13:00 \n",
      " indicator_rain      | 0                 \n",
      " precipitation       | 0.0               \n",
      " indicator_temp      | 0                 \n",
      " air_temperature     | 9.3               \n",
      " indicator_wetb      | 0                 \n",
      " wetb                | 7.0               \n",
      " dewpt               | 4.1               \n",
      " vappr               | 8.2               \n",
      " relative_humidity   | 70                \n",
      " msl                 | 1010.1            \n",
      " indicator_wdsp      | 2                 \n",
      " wind_speed          | 9                 \n",
      " indicator_wddir     | 2                 \n",
      " wind_from_direction | 200               \n",
      "-RECORD 14-------------------------------\n",
      " _c0                 | 28                \n",
      " dateTime            | 01-jan-1990 14:00 \n",
      " indicator_rain      | 0                 \n",
      " precipitation       | 0.0               \n",
      " indicator_temp      | 0                 \n",
      " air_temperature     | 9.9               \n",
      " indicator_wetb      | 0                 \n",
      " wetb                | 8.0               \n",
      " dewpt               | 5.8               \n",
      " vappr               | 9.2               \n",
      " relative_humidity   | 75                \n",
      " msl                 | 1010.3            \n",
      " indicator_wdsp      | 2                 \n",
      " wind_speed          | 9                 \n",
      " indicator_wddir     | 2                 \n",
      " wind_from_direction | 190               \n",
      "-RECORD 15-------------------------------\n",
      " _c0                 | 29                \n",
      " dateTime            | 01-jan-1990 15:00 \n",
      " indicator_rain      | 0                 \n",
      " precipitation       | 0.0               \n",
      " indicator_temp      | 0                 \n",
      " air_temperature     | 9.0               \n",
      " indicator_wetb      | 0                 \n",
      " wetb                | 7.5               \n",
      " dewpt               | 5.7               \n",
      " vappr               | 9.2               \n",
      " relative_humidity   | 80                \n",
      " msl                 | 1010.2            \n",
      " indicator_wdsp      | 2                 \n",
      " wind_speed          | 7                 \n",
      " indicator_wddir     | 2                 \n",
      " wind_from_direction | 170               \n",
      "-RECORD 16-------------------------------\n",
      " _c0                 | 30                \n",
      " dateTime            | 01-jan-1990 16:00 \n",
      " indicator_rain      | 2                 \n",
      " precipitation       | 0.0               \n",
      " indicator_temp      | 0                 \n",
      " air_temperature     | 8.6               \n",
      " indicator_wetb      | 0                 \n",
      " wetb                | 7.1               \n",
      " dewpt               | 5.3               \n",
      " vappr               | 8.9               \n",
      " relative_humidity   | 80                \n",
      " msl                 | 1010.1            \n",
      " indicator_wdsp      | 2                 \n",
      " wind_speed          | 6                 \n",
      " indicator_wddir     | 2                 \n",
      " wind_from_direction | 170               \n",
      "-RECORD 17-------------------------------\n",
      " _c0                 | 31                \n",
      " dateTime            | 01-jan-1990 17:00 \n",
      " indicator_rain      | 0                 \n",
      " precipitation       | 0.0               \n",
      " indicator_temp      | 0                 \n",
      " air_temperature     | 8.2               \n",
      " indicator_wetb      | 0                 \n",
      " wetb                | 6.6               \n",
      " dewpt               | 4.5               \n",
      " vappr               | 8.5               \n",
      " relative_humidity   | 78                \n",
      " msl                 | 1010.3            \n",
      " indicator_wdsp      | 2                 \n",
      " wind_speed          | 5                 \n",
      " indicator_wddir     | 2                 \n",
      " wind_from_direction | 180               \n",
      "-RECORD 18-------------------------------\n",
      " _c0                 | 32                \n",
      " dateTime            | 01-jan-1990 18:00 \n",
      " indicator_rain      | 0                 \n",
      " precipitation       | 0.0               \n",
      " indicator_temp      | 0                 \n",
      " air_temperature     | 8.5               \n",
      " indicator_wetb      | 0                 \n",
      " wetb                | 7.1               \n",
      " dewpt               | 5.4               \n",
      " vappr               | 9.0               \n",
      " relative_humidity   | 81                \n",
      " msl                 | 1010.6            \n",
      " indicator_wdsp      | 2                 \n",
      " wind_speed          | 10                \n",
      " indicator_wddir     | 2                 \n",
      " wind_from_direction | 190               \n",
      "-RECORD 19-------------------------------\n",
      " _c0                 | 33                \n",
      " dateTime            | 01-jan-1990 19:00 \n",
      " indicator_rain      | 0                 \n",
      " precipitation       | 0.0               \n",
      " indicator_temp      | 0                 \n",
      " air_temperature     | 8.2               \n",
      " indicator_wetb      | 0                 \n",
      " wetb                | 6.8               \n",
      " dewpt               | 5.0               \n",
      " vappr               | 8.8               \n",
      " relative_humidity   | 81                \n",
      " msl                 | 1010.3            \n",
      " indicator_wdsp      | 2                 \n",
      " wind_speed          | 12                \n",
      " indicator_wddir     | 2                 \n",
      " wind_from_direction | 170               \n",
      "only showing top 20 rows\n",
      "\n"
     ]
    }
   ],
   "source": [
    "df.show(vertical=True)"
   ]
  },
  {
   "cell_type": "markdown",
   "id": "e48c3b0f-f548-45a8-a817-3349a76dff90",
   "metadata": {},
   "source": [
    "Reading the schema"
   ]
  },
  {
   "cell_type": "code",
   "execution_count": 7,
   "id": "a6f83c41-35f1-465f-ba31-2f4ea727a82f",
   "metadata": {},
   "outputs": [
    {
     "name": "stdout",
     "output_type": "stream",
     "text": [
      "root\n",
      " |-- _c0: integer (nullable = true)\n",
      " |-- dateTime: string (nullable = true)\n",
      " |-- indicator_rain: integer (nullable = true)\n",
      " |-- precipitation: string (nullable = true)\n",
      " |-- indicator_temp: integer (nullable = true)\n",
      " |-- air_temperature: string (nullable = true)\n",
      " |-- indicator_wetb: integer (nullable = true)\n",
      " |-- wetb: string (nullable = true)\n",
      " |-- dewpt: string (nullable = true)\n",
      " |-- vappr: string (nullable = true)\n",
      " |-- relative_humidity: string (nullable = true)\n",
      " |-- msl: string (nullable = true)\n",
      " |-- indicator_wdsp: integer (nullable = true)\n",
      " |-- wind_speed: string (nullable = true)\n",
      " |-- indicator_wddir: integer (nullable = true)\n",
      " |-- wind_from_direction: integer (nullable = true)\n",
      "\n"
     ]
    }
   ],
   "source": [
    "df.printSchema()"
   ]
  },
  {
   "cell_type": "markdown",
   "id": "4a432a4d-64cd-4221-bb4e-97a3f6099193",
   "metadata": {},
   "source": [
    "Read directly from URL"
   ]
  },
  {
   "cell_type": "code",
   "execution_count": 9,
   "id": "b89c9a8a-835f-4dfb-bcfe-aeef1d002b5d",
   "metadata": {},
   "outputs": [],
   "source": [
    "url = \"https://cli.fusio.net/cli/climate_data/webdata/hly1075.csv\"\n",
    "spark.sparkContext.addFile(url)"
   ]
  },
  {
   "cell_type": "code",
   "execution_count": 16,
   "id": "1690aa4f-2c99-411f-a25d-d0dce688076e",
   "metadata": {},
   "outputs": [
    {
     "name": "stdout",
     "output_type": "stream",
     "text": [
      "+--------------------------+\n",
      "|Station Name: ROCHES POINT|\n",
      "+--------------------------+\n",
      "|      Station Height: 4...|\n",
      "|         Latitude:51.793  |\n",
      "|      date:  -  Date an...|\n",
      "|      rain:  -  Precipi...|\n",
      "|      temp:  -  Air Tem...|\n",
      "|      wetb:  -  Wet Bul...|\n",
      "|      dewpt: -  Dew Poi...|\n",
      "|      vappr: -  Vapour ...|\n",
      "|      rhum:  -  Relativ...|\n",
      "|      msl:   -  Mean Se...|\n",
      "|      wdsp:  -  Mean Wi...|\n",
      "|      wddir: -  Predomi...|\n",
      "|       ind:   -  Indicator|\n",
      "|                      date|\n",
      "|         01-dec-1955 01:00|\n",
      "|         01-dec-1955 02:00|\n",
      "|         01-dec-1955 03:00|\n",
      "|         01-dec-1955 04:00|\n",
      "|         01-dec-1955 05:00|\n",
      "|         01-dec-1955 06:00|\n",
      "+--------------------------+\n",
      "only showing top 20 rows\n",
      "\n"
     ]
    }
   ],
   "source": [
    "df = spark.read.csv(\"file://\"+SparkFiles.get(\"hly1075.csv\"), header=True, inferSchema= True)\n",
    "df.show()"
   ]
  },
  {
   "cell_type": "code",
   "execution_count": 17,
   "id": "c1c9e10a-fc93-48b9-8524-3688c834f7da",
   "metadata": {},
   "outputs": [],
   "source": [
    "df.write.csv(\"simple.csv\", header=True)"
   ]
  },
  {
   "cell_type": "code",
   "execution_count": 18,
   "id": "e1a950ba-d2bf-4587-89a7-5928eeb5346b",
   "metadata": {},
   "outputs": [],
   "source": [
    "from pyspark.sql import functions as F"
   ]
  },
  {
   "cell_type": "code",
   "execution_count": 21,
   "id": "9c9a26bb-c696-4760-a8a5-5465cef9c090",
   "metadata": {},
   "outputs": [
    {
     "data": {
      "text/plain": [
       "DataFrame[wetb: string]"
      ]
     },
     "execution_count": 21,
     "metadata": {},
     "output_type": "execute_result"
    }
   ],
   "source": [
    "df = spark.read.csv(\"exampleData.csv\", header=True, inferSchema=True)\n",
    "df.select(F.col(\"wetb\"))"
   ]
  },
  {
   "cell_type": "code",
   "execution_count": 22,
   "id": "8e2f40da-742c-4d0e-8201-6c6e0b07b986",
   "metadata": {},
   "outputs": [
    {
     "data": {
      "text/plain": [
       "Row(_c0=17, dateTime='01-jan-1990 03:00', indicator_rain=3, precipitation='0.0', indicator_temp=0, air_temperature='7.8', indicator_wetb=0, wetb='7.5', dewpt='7.1', vappr='10.1', relative_humidity='96', msl='1007.1', indicator_wdsp=2, wind_speed='1', indicator_wddir=2, wind_from_direction=190)"
      ]
     },
     "execution_count": 22,
     "metadata": {},
     "output_type": "execute_result"
    }
   ],
   "source": [
    "df.collect()[3]"
   ]
  },
  {
   "cell_type": "code",
   "execution_count": 23,
   "id": "803288a6-f574-4441-8473-ae73d294e3ce",
   "metadata": {},
   "outputs": [
    {
     "data": {
      "text/plain": [
       "245088"
      ]
     },
     "execution_count": 23,
     "metadata": {},
     "output_type": "execute_result"
    }
   ],
   "source": [
    "df.select(\"wetb\").count()"
   ]
  },
  {
   "cell_type": "code",
   "execution_count": 24,
   "id": "66c4cf55-07fc-46f2-8a78-776774047cc0",
   "metadata": {},
   "outputs": [
    {
     "data": {
      "text/plain": [
       "DataFrame[wetb: string]"
      ]
     },
     "execution_count": 24,
     "metadata": {},
     "output_type": "execute_result"
    }
   ],
   "source": [
    "df.select(\"wetb\").distinct()"
   ]
  },
  {
   "cell_type": "code",
   "execution_count": 25,
   "id": "0b9dd805-9ca9-4731-8510-25032c444a99",
   "metadata": {},
   "outputs": [
    {
     "data": {
      "text/plain": [
       "264"
      ]
     },
     "execution_count": 25,
     "metadata": {},
     "output_type": "execute_result"
    }
   ],
   "source": [
    "df.select(\"wetb\").distinct().count()"
   ]
  },
  {
   "cell_type": "code",
   "execution_count": 27,
   "id": "05419bbd-b1ed-4894-af1b-903fa10e7628",
   "metadata": {},
   "outputs": [
    {
     "name": "stdout",
     "output_type": "stream",
     "text": [
      "+---------+-------------+\n",
      "|newColumn|roundedTemper|\n",
      "+---------+-------------+\n",
      "|     45.0|          9.0|\n",
      "|     37.0|          8.0|\n",
      "|     37.0|          8.0|\n",
      "|     37.5|          8.0|\n",
      "|     36.5|          8.0|\n",
      "|     35.0|          8.0|\n",
      "|     34.0|          7.0|\n",
      "|     30.0|          7.0|\n",
      "|     31.0|          7.0|\n",
      "|     30.5|          7.0|\n",
      "|     30.5|          8.0|\n",
      "|     33.0|          8.0|\n",
      "|     39.0|         10.0|\n",
      "|     35.0|          9.0|\n",
      "|     40.0|         10.0|\n",
      "|     37.5|          9.0|\n",
      "|     35.5|          9.0|\n",
      "|     33.0|          8.0|\n",
      "|     35.5|          9.0|\n",
      "|     34.0|          8.0|\n",
      "+---------+-------------+\n",
      "only showing top 20 rows\n",
      "\n"
     ]
    }
   ],
   "source": [
    "df.selectExpr(\"wetb * 5 as newColumn\", \"round(air_temperature) as roundedTemper\").show()"
   ]
  },
  {
   "cell_type": "code",
   "execution_count": 28,
   "id": "5c91500e-77d1-4cd5-adee-1429ede98a26",
   "metadata": {},
   "outputs": [],
   "source": [
    "df0 = df.selectExpr(\"wetb as wetbulb\")"
   ]
  },
  {
   "cell_type": "code",
   "execution_count": 29,
   "id": "263e21d1-ec3c-4289-928d-26c17ea5b3ab",
   "metadata": {},
   "outputs": [
    {
     "name": "stdout",
     "output_type": "stream",
     "text": [
      "+-------+\n",
      "|wetbulb|\n",
      "+-------+\n",
      "|    9.0|\n",
      "|    7.4|\n",
      "|    7.4|\n",
      "|    7.5|\n",
      "|    7.3|\n",
      "|    7.0|\n",
      "|    6.8|\n",
      "|    6.0|\n",
      "|    6.2|\n",
      "|    6.1|\n",
      "|    6.1|\n",
      "|    6.6|\n",
      "|    7.8|\n",
      "|    7.0|\n",
      "|    8.0|\n",
      "|    7.5|\n",
      "|    7.1|\n",
      "|    6.6|\n",
      "|    7.1|\n",
      "|    6.8|\n",
      "+-------+\n",
      "only showing top 20 rows\n",
      "\n"
     ]
    }
   ],
   "source": [
    "df0.show()"
   ]
  },
  {
   "cell_type": "code",
   "execution_count": 30,
   "id": "6ad6b485-4763-4275-928d-df2041a3266e",
   "metadata": {},
   "outputs": [
    {
     "data": {
      "text/plain": [
       "DataFrame[dateTime: string, indicator_rain: int, precipitation: string, indicator_temp: int, air_temperature: string, indicator_wetb: int, wetb: string, dewpt: string, vappr: string, relative_humidity: string, msl: string, indicator_wdsp: int, wind_speed: string, indicator_wddir: int, wind_from_direction: int]"
      ]
     },
     "execution_count": 30,
     "metadata": {},
     "output_type": "execute_result"
    }
   ],
   "source": [
    "df.drop(\"_c0\")"
   ]
  },
  {
   "cell_type": "code",
   "execution_count": 31,
   "id": "46b84403-ea59-40e4-b7d9-f01e49285078",
   "metadata": {},
   "outputs": [
    {
     "name": "stdout",
     "output_type": "stream",
     "text": [
      "+---+-----------------+--------------+-------------+--------------+---------------+--------------+----+-----+-----+-----------------+------+--------------+----------+---------------+-------------------+\n",
      "|_c0|         dateTime|indicator_rain|precipitation|indicator_temp|air_temperature|indicator_wetb|wetb|dewpt|vappr|relative_humidity|   msl|indicator_wdsp|wind_speed|indicator_wddir|wind_from_direction|\n",
      "+---+-----------------+--------------+-------------+--------------+---------------+--------------+----+-----+-----+-----------------+------+--------------+----------+---------------+-------------------+\n",
      "| 14|01-jan-1990 00:00|             0|          0.3|             0|            9.1|             0| 9.0|  8.9| 11.4|               99|1006.7|             2|         7|              2|                190|\n",
      "| 15|01-jan-1990 01:00|             0|          0.2|             0|            8.2|             0| 7.4|  6.4|  9.7|               89|1006.7|             2|         5|              2|                220|\n",
      "| 16|01-jan-1990 02:00|             0|          0.0|             0|            7.9|             0| 7.4|  6.8|  9.9|               93|1006.9|             2|         1|              2|                190|\n",
      "| 17|01-jan-1990 03:00|             3|          0.0|             0|            7.8|             0| 7.5|  7.1| 10.1|               96|1007.1|             2|         1|              2|                190|\n",
      "| 18|01-jan-1990 04:00|             3|          0.0|             0|            8.0|             0| 7.3|  6.5|  9.7|               90|1007.3|             2|         2|              2|                220|\n",
      "| 19|01-jan-1990 05:00|             0|          0.0|             0|            7.6|             0| 7.0|  6.3|  9.5|               91|1007.4|             2|         3|              2|                220|\n",
      "| 20|01-jan-1990 06:00|             2|          0.0|             0|            7.4|             0| 6.8|  6.1|  9.4|               91|1008.1|             2|         1|              2|                220|\n",
      "| 21|01-jan-1990 07:00|             2|          0.0|             0|            6.8|             0| 6.0|  5.0|  8.7|               88|1008.3|             2|         4|              2|                230|\n",
      "| 22|01-jan-1990 08:00|             2|          0.0|             0|            6.8|             0| 6.2|  5.5|  9.0|               91|1008.8|             2|         2|              2|                180|\n",
      "| 23|01-jan-1990 09:00|             0|          0.0|             0|            7.2|             0| 6.1|  4.7|  8.5|               84|1009.4|             2|         1|              2|                210|\n",
      "| 24|01-jan-1990 10:00|             0|          0.0|             0|            7.6|             0| 6.1|  4.2|  8.2|               79|1009.7|             2|         1|              2|                210|\n",
      "| 25|01-jan-1990 11:00|             0|          0.0|             0|            8.0|             0| 6.6|  4.8|  8.6|               80|1010.2|             2|         5|              2|                210|\n",
      "| 26|01-jan-1990 12:00|             0|          0.0|             0|            9.5|             0| 7.8|  5.8|  9.2|               78|1010.3|             2|         7|              2|                200|\n",
      "| 27|01-jan-1990 13:00|             0|          0.0|             0|            9.3|             0| 7.0|  4.1|  8.2|               70|1010.1|             2|         9|              2|                200|\n",
      "| 28|01-jan-1990 14:00|             0|          0.0|             0|            9.9|             0| 8.0|  5.8|  9.2|               75|1010.3|             2|         9|              2|                190|\n",
      "| 29|01-jan-1990 15:00|             0|          0.0|             0|            9.0|             0| 7.5|  5.7|  9.2|               80|1010.2|             2|         7|              2|                170|\n",
      "| 30|01-jan-1990 16:00|             2|          0.0|             0|            8.6|             0| 7.1|  5.3|  8.9|               80|1010.1|             2|         6|              2|                170|\n",
      "| 31|01-jan-1990 17:00|             0|          0.0|             0|            8.2|             0| 6.6|  4.5|  8.5|               78|1010.3|             2|         5|              2|                180|\n",
      "| 32|01-jan-1990 18:00|             0|          0.0|             0|            8.5|             0| 7.1|  5.4|  9.0|               81|1010.6|             2|        10|              2|                190|\n",
      "| 33|01-jan-1990 19:00|             0|          0.0|             0|            8.2|             0| 6.8|  5.0|  8.8|               81|1010.3|             2|        12|              2|                170|\n",
      "+---+-----------------+--------------+-------------+--------------+---------------+--------------+----+-----+-----+-----------------+------+--------------+----------+---------------+-------------------+\n",
      "only showing top 20 rows\n",
      "\n"
     ]
    }
   ],
   "source": [
    "df.withColumn(\"air_temperature\",F.round(df[\"air_temperature\"], 1)).show()"
   ]
  },
  {
   "cell_type": "code",
   "execution_count": 32,
   "id": "03c3de49-a608-401d-8a42-800d2fdcb7d7",
   "metadata": {},
   "outputs": [],
   "source": [
    "df1 = df.selectExpr(\"cast(air_temperature as float) air_temperature\")"
   ]
  },
  {
   "cell_type": "code",
   "execution_count": 33,
   "id": "1c2e273c-9e4f-47dd-a333-5aeccba324a0",
   "metadata": {},
   "outputs": [
    {
     "data": {
      "text/plain": [
       "[('air_temperature', 'float')]"
      ]
     },
     "execution_count": 33,
     "metadata": {},
     "output_type": "execute_result"
    }
   ],
   "source": [
    "df1.dtypes"
   ]
  },
  {
   "cell_type": "code",
   "execution_count": 35,
   "id": "b24fd46c-2c3d-45c2-a9cf-d15c770fa7c3",
   "metadata": {},
   "outputs": [
    {
     "name": "stdout",
     "output_type": "stream",
     "text": [
      "+---+-----------------+--------------+-------------+--------------+---------------+--------------+----+-----+-----+-----------------+------+--------------+----------+---------------+-------------------+\n",
      "|_c0|         dateTime|indicator_rain|precipitation|indicator_temp|air_temperature|indicator_wetb|wetb|dewpt|vappr|relative_humidity|   msl|indicator_wdsp|wind_speed|indicator_wddir|wind_from_direction|\n",
      "+---+-----------------+--------------+-------------+--------------+---------------+--------------+----+-----+-----+-----------------+------+--------------+----------+---------------+-------------------+\n",
      "|298|12-jan-1990 20:00|             3|          0.0|             0|            4.9|             0| 4.3|  3.4|  7.8|               90|1025.5|             2|         1|              2|                210|\n",
      "|300|12-jan-1990 22:00|             3|          0.0|             0|            3.9|             0| 3.2|  2.1|  7.1|               88|1025.9|             2|         1|              2|                260|\n",
      "|301|12-jan-1990 23:00|             3|          0.0|             0|            4.4|             0| 3.6|  2.4|  7.3|               87|1025.8|             2|         1|              2|                340|\n",
      "|302|13-jan-1990 00:00|             3|          0.0|             0|            4.2|             0| 3.3|  1.9|  7.0|               85|1026.4|             2|         1|              2|                280|\n",
      "|303|13-jan-1990 01:00|             3|          0.0|             0|            3.5|             0| 2.6|  1.2|  6.6|               85|1026.4|             2|         1|              2|                320|\n",
      "|304|13-jan-1990 02:00|             3|          0.0|             0|            3.8|             0| 3.1|  2.0|  7.1|               88|1026.2|             2|         1|              2|                330|\n",
      "|305|13-jan-1990 03:00|             3|          0.0|             0|            4.0|             0| 3.5|  2.8|  7.4|               92|1026.0|             2|         1|              2|                300|\n",
      "|405|17-jan-1990 07:00|             0|          1.5|             0|            3.5|             0| 3.0|  2.3|  7.2|               91|1020.7|             2|        18|              2|                250|\n",
      "|406|17-jan-1990 08:00|             0|          0.0|             0|            4.2|             0| 3.3|  1.9|  7.0|               85|1021.5|             2|        16|              2|                260|\n",
      "|407|17-jan-1990 09:00|             0|          0.0|             0|            4.1|             0| 3.4|  2.3|  7.2|               88|1022.7|             2|        15|              2|                270|\n",
      "|418|17-jan-1990 20:00|             0|          0.0|             0|            4.3|             0| 3.4|  2.0|  7.1|               85|1026.9|             2|        11|              2|                250|\n",
      "|419|17-jan-1990 21:00|             0|          0.0|             0|            4.4|             0| 3.5|  2.1|  7.1|               85|1027.0|             2|         9|              2|                250|\n",
      "|560|23-jan-1990 18:00|             0|          0.0|             0|            4.9|             0| 3.0| -0.1|  6.1|               70|1003.1|             2|        16|              2|                270|\n",
      "|561|23-jan-1990 19:00|             0|          0.0|             0|            4.2|             0| 2.7|  0.2|  6.2|               75|1003.6|             2|         9|              2|                280|\n",
      "|562|23-jan-1990 20:00|             0|          0.0|             0|            3.7|             0| 1.8| -1.6|  5.4|               68|1003.5|             2|         6|              2|                260|\n",
      "|563|23-jan-1990 21:00|             0|          0.0|             0|            3.8|             0| 2.0| -1.2|  5.6|               70|1003.9|             2|         9|              2|                230|\n",
      "|564|23-jan-1990 22:00|             0|          0.0|             0|            3.4|             0| 2.0| -0.4|  5.9|               76|1003.3|             2|        10|              2|                220|\n",
      "|567|24-jan-1990 01:00|             0|          1.3|             0|            4.2|             0| 3.6|  2.7|  7.4|               90|1002.1|             2|        21|              2|                250|\n",
      "|568|24-jan-1990 02:00|             2|          0.0|             0|            4.1|             0| 3.1|  1.5|  6.8|               83|1002.8|             2|        18|              2|                290|\n",
      "|569|24-jan-1990 03:00|             2|          0.0|             0|            3.4|             0| 2.6|  1.3|  6.7|               86|1003.7|             2|        16|              2|                280|\n",
      "+---+-----------------+--------------+-------------+--------------+---------------+--------------+----+-----+-----+-----------------+------+--------------+----------+---------------+-------------------+\n",
      "only showing top 20 rows\n",
      "\n"
     ]
    }
   ],
   "source": [
    "df.filter((F.col('air_temperature')<5)).show()"
   ]
  },
  {
   "cell_type": "code",
   "execution_count": 47,
   "id": "0aa15bd9-68bd-4b94-b327-16f33337c0dc",
   "metadata": {},
   "outputs": [
    {
     "data": {
      "text/plain": [
       "245088"
      ]
     },
     "execution_count": 47,
     "metadata": {},
     "output_type": "execute_result"
    }
   ],
   "source": [
    "df_u = df.select(\"wetb\")\n",
    "df_u.count()"
   ]
  },
  {
   "cell_type": "code",
   "execution_count": 46,
   "id": "568d970a-188b-47a2-89da-90b9919b0064",
   "metadata": {},
   "outputs": [
    {
     "data": {
      "text/plain": [
       "245088"
      ]
     },
     "execution_count": 46,
     "metadata": {},
     "output_type": "execute_result"
    }
   ],
   "source": [
    "df_i = df.select(\"air_temperature\")\n",
    "df_i.count()"
   ]
  },
  {
   "cell_type": "code",
   "execution_count": 42,
   "id": "56ec7a0f-f63e-4247-862c-90f0ee0e748f",
   "metadata": {},
   "outputs": [],
   "source": [
    "unionDF= df_u.union(df_i)"
   ]
  },
  {
   "cell_type": "code",
   "execution_count": 48,
   "id": "1576ce93-5134-46f6-bc0d-a0666ccf7411",
   "metadata": {},
   "outputs": [
    {
     "data": {
      "text/plain": [
       "490176"
      ]
     },
     "execution_count": 48,
     "metadata": {},
     "output_type": "execute_result"
    }
   ],
   "source": [
    "unionDF.count()"
   ]
  },
  {
   "cell_type": "code",
   "execution_count": 49,
   "id": "e621de66-411e-49d8-a3be-5697d3d76671",
   "metadata": {},
   "outputs": [
    {
     "name": "stdout",
     "output_type": "stream",
     "text": [
      "+-------------+------+\n",
      "|precipitation| count|\n",
      "+-------------+------+\n",
      "|          0.0|218530|\n",
      "|          0.2|  5928|\n",
      "|          0.1|  5129|\n",
      "|          0.4|  2621|\n",
      "|          0.6|  1663|\n",
      "|          0.3|  1330|\n",
      "|          0.8|  1220|\n",
      "|          1.0|   917|\n",
      "|          0.5|   786|\n",
      "|          1.2|   718|\n",
      "|          1.4|   558|\n",
      "|          0.7|   532|\n",
      "|          1.6|   503|\n",
      "|             |   384|\n",
      "|          1.8|   359|\n",
      "|          0.9|   356|\n",
      "|          2.0|   312|\n",
      "|          1.1|   282|\n",
      "|          1.3|   244|\n",
      "|          2.2|   238|\n",
      "+-------------+------+\n",
      "only showing top 20 rows\n",
      "\n"
     ]
    }
   ],
   "source": [
    "df.groupBy('precipitation').count().orderBy('count',ascending=False).show()"
   ]
  },
  {
   "cell_type": "code",
   "execution_count": 50,
   "id": "d814f158-1f8a-4dcb-996d-d3c9862c4d5d",
   "metadata": {},
   "outputs": [
    {
     "name": "stderr",
     "output_type": "stream",
     "text": [
      "/usr/local/spark/python/pyspark/sql/dataframe.py:138: FutureWarning: Deprecated in 2.0, use createOrReplaceTempView instead.\n",
      "  warnings.warn(\n"
     ]
    }
   ],
   "source": [
    "df.registerTempTable(\"example\")"
   ]
  },
  {
   "cell_type": "code",
   "execution_count": 51,
   "id": "117cd619-26e5-4390-9018-887cd91f0465",
   "metadata": {},
   "outputs": [],
   "source": [
    "pr = spark.sql(\"Select air_temperature, count(air_temperature) AS total_freq, count(distinct air_temperature) AS unique_air_temp, count(wetb) AS wetb_freq,count(distinct wetb) AS unique_wetb FROM example GROUP BY air_temperature\")"
   ]
  },
  {
   "cell_type": "code",
   "execution_count": 52,
   "id": "5c108a54-5822-455d-b710-cc89fc620307",
   "metadata": {},
   "outputs": [
    {
     "name": "stdout",
     "output_type": "stream",
     "text": [
      "+---------------+----------+---------------+---------+-----------+\n",
      "|air_temperature|total_freq|unique_air_temp|wetb_freq|unique_wetb|\n",
      "+---------------+----------+---------------+---------+-----------+\n",
      "|           10.7|      1926|              1|     1926|         48|\n",
      "|            8.5|      1761|              1|     1761|         44|\n",
      "|           20.5|        70|              1|       70|         33|\n",
      "|           -1.2|        24|              1|       24|         12|\n",
      "|            1.0|        93|              1|       93|         20|\n",
      "|            8.2|      1560|              1|     1560|         45|\n",
      "|            2.6|       342|              1|      342|         29|\n",
      "|            7.3|      1230|              1|     1230|         43|\n",
      "|            3.1|       464|              1|      464|         31|\n",
      "|           16.6|       994|              1|      994|         51|\n",
      "|           12.8|      1623|              1|     1623|         48|\n",
      "|           14.2|      1655|              1|     1655|         51|\n",
      "|           17.1|       713|              1|      713|         56|\n",
      "|           -2.4|        11|              1|       11|          6|\n",
      "|            8.3|      1639|              1|     1639|         45|\n",
      "|           22.4|        16|              1|       16|         16|\n",
      "|            4.2|       649|              1|      649|         31|\n",
      "|           -0.1|        45|              1|       45|         15|\n",
      "|            9.2|      1989|              1|     1989|         47|\n",
      "|           18.1|       365|              1|      365|         56|\n",
      "+---------------+----------+---------------+---------+-----------+\n",
      "only showing top 20 rows\n",
      "\n"
     ]
    }
   ],
   "source": [
    "pr.show()"
   ]
  },
  {
   "cell_type": "code",
   "execution_count": 53,
   "id": "8818abfc-9de1-43dd-a119-fc36f1bc08a7",
   "metadata": {},
   "outputs": [],
   "source": [
    "import pandas as pd\n",
    "import matplotlib.pyplot as plt\n",
    "plt.style.use('seaborn-white')"
   ]
  },
  {
   "cell_type": "code",
   "execution_count": 65,
   "id": "20528acb-2159-4fce-9d86-adf621a3e5e8",
   "metadata": {},
   "outputs": [],
   "source": [
    "dff = df.toPandas()"
   ]
  },
  {
   "cell_type": "code",
   "execution_count": 67,
   "id": "6bd3127a-1d90-4e3f-aaaf-17a1ce6a5ab6",
   "metadata": {},
   "outputs": [
    {
     "data": {
      "text/html": [
       "<div>\n",
       "<style scoped>\n",
       "    .dataframe tbody tr th:only-of-type {\n",
       "        vertical-align: middle;\n",
       "    }\n",
       "\n",
       "    .dataframe tbody tr th {\n",
       "        vertical-align: top;\n",
       "    }\n",
       "\n",
       "    .dataframe thead th {\n",
       "        text-align: right;\n",
       "    }\n",
       "</style>\n",
       "<table border=\"1\" class=\"dataframe\">\n",
       "  <thead>\n",
       "    <tr style=\"text-align: right;\">\n",
       "      <th></th>\n",
       "      <th>_c0</th>\n",
       "      <th>dateTime</th>\n",
       "      <th>indicator_rain</th>\n",
       "      <th>precipitation</th>\n",
       "      <th>indicator_temp</th>\n",
       "      <th>air_temperature</th>\n",
       "      <th>indicator_wetb</th>\n",
       "      <th>wetb</th>\n",
       "      <th>dewpt</th>\n",
       "      <th>vappr</th>\n",
       "      <th>relative_humidity</th>\n",
       "      <th>msl</th>\n",
       "      <th>indicator_wdsp</th>\n",
       "      <th>wind_speed</th>\n",
       "      <th>indicator_wddir</th>\n",
       "      <th>wind_from_direction</th>\n",
       "    </tr>\n",
       "  </thead>\n",
       "  <tbody>\n",
       "    <tr>\n",
       "      <th>0</th>\n",
       "      <td>14</td>\n",
       "      <td>01-jan-1990 00:00</td>\n",
       "      <td>0</td>\n",
       "      <td>0.3</td>\n",
       "      <td>0</td>\n",
       "      <td>9.1</td>\n",
       "      <td>0</td>\n",
       "      <td>9.0</td>\n",
       "      <td>8.9</td>\n",
       "      <td>11.4</td>\n",
       "      <td>99</td>\n",
       "      <td>1006.7</td>\n",
       "      <td>2</td>\n",
       "      <td>7</td>\n",
       "      <td>2</td>\n",
       "      <td>190.0</td>\n",
       "    </tr>\n",
       "    <tr>\n",
       "      <th>1</th>\n",
       "      <td>15</td>\n",
       "      <td>01-jan-1990 01:00</td>\n",
       "      <td>0</td>\n",
       "      <td>0.2</td>\n",
       "      <td>0</td>\n",
       "      <td>8.2</td>\n",
       "      <td>0</td>\n",
       "      <td>7.4</td>\n",
       "      <td>6.4</td>\n",
       "      <td>9.7</td>\n",
       "      <td>89</td>\n",
       "      <td>1006.7</td>\n",
       "      <td>2</td>\n",
       "      <td>5</td>\n",
       "      <td>2</td>\n",
       "      <td>220.0</td>\n",
       "    </tr>\n",
       "    <tr>\n",
       "      <th>2</th>\n",
       "      <td>16</td>\n",
       "      <td>01-jan-1990 02:00</td>\n",
       "      <td>0</td>\n",
       "      <td>0.0</td>\n",
       "      <td>0</td>\n",
       "      <td>7.9</td>\n",
       "      <td>0</td>\n",
       "      <td>7.4</td>\n",
       "      <td>6.8</td>\n",
       "      <td>9.9</td>\n",
       "      <td>93</td>\n",
       "      <td>1006.9</td>\n",
       "      <td>2</td>\n",
       "      <td>1</td>\n",
       "      <td>2</td>\n",
       "      <td>190.0</td>\n",
       "    </tr>\n",
       "    <tr>\n",
       "      <th>3</th>\n",
       "      <td>17</td>\n",
       "      <td>01-jan-1990 03:00</td>\n",
       "      <td>3</td>\n",
       "      <td>0.0</td>\n",
       "      <td>0</td>\n",
       "      <td>7.8</td>\n",
       "      <td>0</td>\n",
       "      <td>7.5</td>\n",
       "      <td>7.1</td>\n",
       "      <td>10.1</td>\n",
       "      <td>96</td>\n",
       "      <td>1007.1</td>\n",
       "      <td>2</td>\n",
       "      <td>1</td>\n",
       "      <td>2</td>\n",
       "      <td>190.0</td>\n",
       "    </tr>\n",
       "    <tr>\n",
       "      <th>4</th>\n",
       "      <td>18</td>\n",
       "      <td>01-jan-1990 04:00</td>\n",
       "      <td>3</td>\n",
       "      <td>0.0</td>\n",
       "      <td>0</td>\n",
       "      <td>8.0</td>\n",
       "      <td>0</td>\n",
       "      <td>7.3</td>\n",
       "      <td>6.5</td>\n",
       "      <td>9.7</td>\n",
       "      <td>90</td>\n",
       "      <td>1007.3</td>\n",
       "      <td>2</td>\n",
       "      <td>2</td>\n",
       "      <td>2</td>\n",
       "      <td>220.0</td>\n",
       "    </tr>\n",
       "  </tbody>\n",
       "</table>\n",
       "</div>"
      ],
      "text/plain": [
       "   _c0           dateTime  indicator_rain precipitation  indicator_temp  \\\n",
       "0   14  01-jan-1990 00:00               0           0.3               0   \n",
       "1   15  01-jan-1990 01:00               0           0.2               0   \n",
       "2   16  01-jan-1990 02:00               0           0.0               0   \n",
       "3   17  01-jan-1990 03:00               3           0.0               0   \n",
       "4   18  01-jan-1990 04:00               3           0.0               0   \n",
       "\n",
       "  air_temperature  indicator_wetb wetb dewpt vappr relative_humidity     msl  \\\n",
       "0             9.1               0  9.0   8.9  11.4                99  1006.7   \n",
       "1             8.2               0  7.4   6.4   9.7                89  1006.7   \n",
       "2             7.9               0  7.4   6.8   9.9                93  1006.9   \n",
       "3             7.8               0  7.5   7.1  10.1                96  1007.1   \n",
       "4             8.0               0  7.3   6.5   9.7                90  1007.3   \n",
       "\n",
       "   indicator_wdsp wind_speed  indicator_wddir  wind_from_direction  \n",
       "0               2          7                2                190.0  \n",
       "1               2          5                2                220.0  \n",
       "2               2          1                2                190.0  \n",
       "3               2          1                2                190.0  \n",
       "4               2          2                2                220.0  "
      ]
     },
     "execution_count": 67,
     "metadata": {},
     "output_type": "execute_result"
    }
   ],
   "source": [
    "dff.head()"
   ]
  },
  {
   "cell_type": "code",
   "execution_count": 55,
   "id": "256cb729-64dd-46df-8b40-974ec0ccc1d7",
   "metadata": {},
   "outputs": [
    {
     "data": {
      "text/plain": [
       "<AxesSubplot:xlabel='precipitation', ylabel='air_temperature'>"
      ]
     },
     "execution_count": 55,
     "metadata": {},
     "output_type": "execute_result"
    },
    {
     "data": {
      "image/png": "[encoded data removed]",
      "text/plain": [
       "<Figure size 432x288 with 1 Axes>"
      ]
     },
     "metadata": {
      "image/png": {
       "height": 258,
       "width": 385
      }
     },
     "output_type": "display_data"
    }
   ],
   "source": [
    "params = {'legend.fontsize': 'large',\n",
    "'figure.figsize': (15, 9),\n",
    "'axes.labelsize': 'x-large',\n",
    "'axes.titlesize':'x-large',\n",
    "'xtick.labelsize':'large',\n",
    "'ytick.labelsize':'large'}\n",
    "dff.plot(kind='scatter',x='precipitation',y='air_temperature')"
   ]
  },
  {
   "cell_type": "code",
   "execution_count": 58,
   "id": "051e910e-06d9-43d5-a0a9-625ec6841a2e",
   "metadata": {},
   "outputs": [],
   "source": [
    "#This will most likely give a type error because of dtype object, you can use the following code to convert object data to numerical type. This code should be called before the plot line above.\n",
    "dff['precipitation'] = pd.to_numeric(dff.precipitation,errors='coerce')\n",
    "dff['air_temperature'] = pd.to_numeric(dff.air_temperature,errors='coerce')"
   ]
  },
  {
   "cell_type": "code",
   "execution_count": 59,
   "id": "c9506feb-bfe0-4db2-9f50-74ebf35fc215",
   "metadata": {},
   "outputs": [
    {
     "data": {
      "text/plain": [
       "<AxesSubplot:xlabel='precipitation', ylabel='air_temperature'>"
      ]
     },
     "execution_count": 59,
     "metadata": {},
     "output_type": "execute_result"
    },
    {
     "data": {
      "image/png": "[encoded data removed]",
      "text/plain": [
       "<Figure size 432x288 with 1 Axes>"
      ]
     },
     "metadata": {
      "image/png": {
       "height": 258,
       "width": 377
      }
     },
     "output_type": "display_data"
    }
   ],
   "source": [
    "dff.plot(kind='scatter',x='precipitation',y='air_temperature')"
   ]
  },
  {
   "cell_type": "code",
   "execution_count": 71,
   "id": "7faf9735-e35d-45e2-806e-b778a3983cd3",
   "metadata": {},
   "outputs": [
    {
     "ename": "ConnectionRefusedError",
     "evalue": "[Errno 111] Connection refused",
     "output_type": "error",
     "traceback": [
      "\u001b[0;31m---------------------------------------------------------------------------\u001b[0m",
      "\u001b[0;31mConnectionRefusedError\u001b[0m                    Traceback (most recent call last)",
      "Input \u001b[0;32mIn [71]\u001b[0m, in \u001b[0;36m<cell line: 1>\u001b[0;34m()\u001b[0m\n\u001b[0;32m----> 1\u001b[0m \u001b[43mdf\u001b[49m\u001b[38;5;241;43m.\u001b[39;49m\u001b[43mshow\u001b[49m\u001b[43m(\u001b[49m\u001b[43m)\u001b[49m\n",
      "File \u001b[0;32m/usr/local/spark/python/pyspark/sql/dataframe.py:494\u001b[0m, in \u001b[0;36mDataFrame.show\u001b[0;34m(self, n, truncate, vertical)\u001b[0m\n\u001b[1;32m    491\u001b[0m     \u001b[38;5;28;01mraise\u001b[39;00m \u001b[38;5;167;01mTypeError\u001b[39;00m(\u001b[38;5;124m\"\u001b[39m\u001b[38;5;124mParameter \u001b[39m\u001b[38;5;124m'\u001b[39m\u001b[38;5;124mvertical\u001b[39m\u001b[38;5;124m'\u001b[39m\u001b[38;5;124m must be a bool\u001b[39m\u001b[38;5;124m\"\u001b[39m)\n\u001b[1;32m    493\u001b[0m \u001b[38;5;28;01mif\u001b[39;00m \u001b[38;5;28misinstance\u001b[39m(truncate, \u001b[38;5;28mbool\u001b[39m) \u001b[38;5;129;01mand\u001b[39;00m truncate:\n\u001b[0;32m--> 494\u001b[0m     \u001b[38;5;28mprint\u001b[39m(\u001b[38;5;28;43mself\u001b[39;49m\u001b[38;5;241;43m.\u001b[39;49m\u001b[43m_jdf\u001b[49m\u001b[38;5;241;43m.\u001b[39;49m\u001b[43mshowString\u001b[49m\u001b[43m(\u001b[49m\u001b[43mn\u001b[49m\u001b[43m,\u001b[49m\u001b[43m \u001b[49m\u001b[38;5;241;43m20\u001b[39;49m\u001b[43m,\u001b[49m\u001b[43m \u001b[49m\u001b[43mvertical\u001b[49m\u001b[43m)\u001b[49m)\n\u001b[1;32m    495\u001b[0m \u001b[38;5;28;01melse\u001b[39;00m:\n\u001b[1;32m    496\u001b[0m     \u001b[38;5;28;01mtry\u001b[39;00m:\n",
      "File \u001b[0;32m/usr/local/spark/python/lib/py4j-0.10.9.3-src.zip/py4j/java_gateway.py:1320\u001b[0m, in \u001b[0;36mJavaMember.__call__\u001b[0;34m(self, *args)\u001b[0m\n\u001b[1;32m   1313\u001b[0m args_command, temp_args \u001b[38;5;241m=\u001b[39m \u001b[38;5;28mself\u001b[39m\u001b[38;5;241m.\u001b[39m_build_args(\u001b[38;5;241m*\u001b[39margs)\n\u001b[1;32m   1315\u001b[0m command \u001b[38;5;241m=\u001b[39m proto\u001b[38;5;241m.\u001b[39mCALL_COMMAND_NAME \u001b[38;5;241m+\u001b[39m\\\n\u001b[1;32m   1316\u001b[0m     \u001b[38;5;28mself\u001b[39m\u001b[38;5;241m.\u001b[39mcommand_header \u001b[38;5;241m+\u001b[39m\\\n\u001b[1;32m   1317\u001b[0m     args_command \u001b[38;5;241m+\u001b[39m\\\n\u001b[1;32m   1318\u001b[0m     proto\u001b[38;5;241m.\u001b[39mEND_COMMAND_PART\n\u001b[0;32m-> 1320\u001b[0m answer \u001b[38;5;241m=\u001b[39m \u001b[38;5;28;43mself\u001b[39;49m\u001b[38;5;241;43m.\u001b[39;49m\u001b[43mgateway_client\u001b[49m\u001b[38;5;241;43m.\u001b[39;49m\u001b[43msend_command\u001b[49m\u001b[43m(\u001b[49m\u001b[43mcommand\u001b[49m\u001b[43m)\u001b[49m\n\u001b[1;32m   1321\u001b[0m return_value \u001b[38;5;241m=\u001b[39m get_return_value(\n\u001b[1;32m   1322\u001b[0m     answer, \u001b[38;5;28mself\u001b[39m\u001b[38;5;241m.\u001b[39mgateway_client, \u001b[38;5;28mself\u001b[39m\u001b[38;5;241m.\u001b[39mtarget_id, \u001b[38;5;28mself\u001b[39m\u001b[38;5;241m.\u001b[39mname)\n\u001b[1;32m   1324\u001b[0m \u001b[38;5;28;01mfor\u001b[39;00m temp_arg \u001b[38;5;129;01min\u001b[39;00m temp_args:\n",
      "File \u001b[0;32m/usr/local/spark/python/lib/py4j-0.10.9.3-src.zip/py4j/java_gateway.py:1036\u001b[0m, in \u001b[0;36mGatewayClient.send_command\u001b[0;34m(self, command, retry, binary)\u001b[0m\n\u001b[1;32m   1015\u001b[0m \u001b[38;5;28;01mdef\u001b[39;00m \u001b[38;5;21msend_command\u001b[39m(\u001b[38;5;28mself\u001b[39m, command, retry\u001b[38;5;241m=\u001b[39m\u001b[38;5;28;01mTrue\u001b[39;00m, binary\u001b[38;5;241m=\u001b[39m\u001b[38;5;28;01mFalse\u001b[39;00m):\n\u001b[1;32m   1016\u001b[0m     \u001b[38;5;124;03m\"\"\"Sends a command to the JVM. This method is not intended to be\u001b[39;00m\n\u001b[1;32m   1017\u001b[0m \u001b[38;5;124;03m       called directly by Py4J users. It is usually called by\u001b[39;00m\n\u001b[1;32m   1018\u001b[0m \u001b[38;5;124;03m       :class:`JavaMember` instances.\u001b[39;00m\n\u001b[0;32m   (...)\u001b[0m\n\u001b[1;32m   1034\u001b[0m \u001b[38;5;124;03m     if `binary` is `True`.\u001b[39;00m\n\u001b[1;32m   1035\u001b[0m \u001b[38;5;124;03m    \"\"\"\u001b[39;00m\n\u001b[0;32m-> 1036\u001b[0m     connection \u001b[38;5;241m=\u001b[39m \u001b[38;5;28;43mself\u001b[39;49m\u001b[38;5;241;43m.\u001b[39;49m\u001b[43m_get_connection\u001b[49m\u001b[43m(\u001b[49m\u001b[43m)\u001b[49m\n\u001b[1;32m   1037\u001b[0m     \u001b[38;5;28;01mtry\u001b[39;00m:\n\u001b[1;32m   1038\u001b[0m         response \u001b[38;5;241m=\u001b[39m connection\u001b[38;5;241m.\u001b[39msend_command(command)\n",
      "File \u001b[0;32m/usr/local/spark/python/lib/py4j-0.10.9.3-src.zip/py4j/clientserver.py:281\u001b[0m, in \u001b[0;36mJavaClient._get_connection\u001b[0;34m(self)\u001b[0m\n\u001b[1;32m    278\u001b[0m     \u001b[38;5;28;01mpass\u001b[39;00m\n\u001b[1;32m    280\u001b[0m \u001b[38;5;28;01mif\u001b[39;00m connection \u001b[38;5;129;01mis\u001b[39;00m \u001b[38;5;28;01mNone\u001b[39;00m \u001b[38;5;129;01mor\u001b[39;00m connection\u001b[38;5;241m.\u001b[39msocket \u001b[38;5;129;01mis\u001b[39;00m \u001b[38;5;28;01mNone\u001b[39;00m:\n\u001b[0;32m--> 281\u001b[0m     connection \u001b[38;5;241m=\u001b[39m \u001b[38;5;28;43mself\u001b[39;49m\u001b[38;5;241;43m.\u001b[39;49m\u001b[43m_create_new_connection\u001b[49m\u001b[43m(\u001b[49m\u001b[43m)\u001b[49m\n\u001b[1;32m    282\u001b[0m \u001b[38;5;28;01mreturn\u001b[39;00m connection\n",
      "File \u001b[0;32m/usr/local/spark/python/lib/py4j-0.10.9.3-src.zip/py4j/clientserver.py:288\u001b[0m, in \u001b[0;36mJavaClient._create_new_connection\u001b[0;34m(self)\u001b[0m\n\u001b[1;32m    284\u001b[0m \u001b[38;5;28;01mdef\u001b[39;00m \u001b[38;5;21m_create_new_connection\u001b[39m(\u001b[38;5;28mself\u001b[39m):\n\u001b[1;32m    285\u001b[0m     connection \u001b[38;5;241m=\u001b[39m ClientServerConnection(\n\u001b[1;32m    286\u001b[0m         \u001b[38;5;28mself\u001b[39m\u001b[38;5;241m.\u001b[39mjava_parameters, \u001b[38;5;28mself\u001b[39m\u001b[38;5;241m.\u001b[39mpython_parameters,\n\u001b[1;32m    287\u001b[0m         \u001b[38;5;28mself\u001b[39m\u001b[38;5;241m.\u001b[39mgateway_property, \u001b[38;5;28mself\u001b[39m)\n\u001b[0;32m--> 288\u001b[0m     \u001b[43mconnection\u001b[49m\u001b[38;5;241;43m.\u001b[39;49m\u001b[43mconnect_to_java_server\u001b[49m\u001b[43m(\u001b[49m\u001b[43m)\u001b[49m\n\u001b[1;32m    289\u001b[0m     \u001b[38;5;28mself\u001b[39m\u001b[38;5;241m.\u001b[39mset_thread_connection(connection)\n\u001b[1;32m    290\u001b[0m     \u001b[38;5;28;01mreturn\u001b[39;00m connection\n",
      "File \u001b[0;32m/usr/local/spark/python/lib/py4j-0.10.9.3-src.zip/py4j/clientserver.py:402\u001b[0m, in \u001b[0;36mClientServerConnection.connect_to_java_server\u001b[0;34m(self)\u001b[0m\n\u001b[1;32m    399\u001b[0m \u001b[38;5;28;01mif\u001b[39;00m \u001b[38;5;28mself\u001b[39m\u001b[38;5;241m.\u001b[39mssl_context:\n\u001b[1;32m    400\u001b[0m     \u001b[38;5;28mself\u001b[39m\u001b[38;5;241m.\u001b[39msocket \u001b[38;5;241m=\u001b[39m \u001b[38;5;28mself\u001b[39m\u001b[38;5;241m.\u001b[39mssl_context\u001b[38;5;241m.\u001b[39mwrap_socket(\n\u001b[1;32m    401\u001b[0m         \u001b[38;5;28mself\u001b[39m\u001b[38;5;241m.\u001b[39msocket, server_hostname\u001b[38;5;241m=\u001b[39m\u001b[38;5;28mself\u001b[39m\u001b[38;5;241m.\u001b[39mjava_address)\n\u001b[0;32m--> 402\u001b[0m \u001b[38;5;28;43mself\u001b[39;49m\u001b[38;5;241;43m.\u001b[39;49m\u001b[43msocket\u001b[49m\u001b[38;5;241;43m.\u001b[39;49m\u001b[43mconnect\u001b[49m\u001b[43m(\u001b[49m\u001b[43m(\u001b[49m\u001b[38;5;28;43mself\u001b[39;49m\u001b[38;5;241;43m.\u001b[39;49m\u001b[43mjava_address\u001b[49m\u001b[43m,\u001b[49m\u001b[43m \u001b[49m\u001b[38;5;28;43mself\u001b[39;49m\u001b[38;5;241;43m.\u001b[39;49m\u001b[43mjava_port\u001b[49m\u001b[43m)\u001b[49m\u001b[43m)\u001b[49m\n\u001b[1;32m    403\u001b[0m \u001b[38;5;28mself\u001b[39m\u001b[38;5;241m.\u001b[39mstream \u001b[38;5;241m=\u001b[39m \u001b[38;5;28mself\u001b[39m\u001b[38;5;241m.\u001b[39msocket\u001b[38;5;241m.\u001b[39mmakefile(\u001b[38;5;124m\"\u001b[39m\u001b[38;5;124mrb\u001b[39m\u001b[38;5;124m\"\u001b[39m)\n\u001b[1;32m    404\u001b[0m \u001b[38;5;28mself\u001b[39m\u001b[38;5;241m.\u001b[39mis_connected \u001b[38;5;241m=\u001b[39m \u001b[38;5;28;01mTrue\u001b[39;00m\n",
      "\u001b[0;31mConnectionRefusedError\u001b[0m: [Errno 111] Connection refused"
     ]
    }
   ],
   "source": [
    "df.show()"
   ]
  },
  {
   "cell_type": "code",
   "execution_count": 69,
   "id": "d66f56c5-838b-4701-b3d1-2a384c8362b3",
   "metadata": {},
   "outputs": [
    {
     "ename": "ConnectionRefusedError",
     "evalue": "[Errno 111] Connection refused",
     "output_type": "error",
     "traceback": [
      "\u001b[0;31m---------------------------------------------------------------------------\u001b[0m",
      "\u001b[0;31mConnectionRefusedError\u001b[0m                    Traceback (most recent call last)",
      "Input \u001b[0;32mIn [69]\u001b[0m, in \u001b[0;36m<cell line: 1>\u001b[0;34m()\u001b[0m\n\u001b[0;32m----> 1\u001b[0m pff \u001b[38;5;241m=\u001b[39m \u001b[43mpr\u001b[49m\u001b[38;5;241;43m.\u001b[39;49m\u001b[43mtoPandas\u001b[49m\u001b[43m(\u001b[49m\u001b[43m)\u001b[49m\n",
      "File \u001b[0;32m/usr/local/spark/python/pyspark/sql/pandas/conversion.py:67\u001b[0m, in \u001b[0;36mPandasConversionMixin.toPandas\u001b[0;34m(self)\u001b[0m\n\u001b[1;32m     64\u001b[0m \u001b[38;5;28;01mimport\u001b[39;00m \u001b[38;5;21;01mnumpy\u001b[39;00m \u001b[38;5;28;01mas\u001b[39;00m \u001b[38;5;21;01mnp\u001b[39;00m\n\u001b[1;32m     65\u001b[0m \u001b[38;5;28;01mimport\u001b[39;00m \u001b[38;5;21;01mpandas\u001b[39;00m \u001b[38;5;28;01mas\u001b[39;00m \u001b[38;5;21;01mpd\u001b[39;00m\n\u001b[0;32m---> 67\u001b[0m timezone \u001b[38;5;241m=\u001b[39m \u001b[38;5;28;43mself\u001b[39;49m\u001b[38;5;241;43m.\u001b[39;49m\u001b[43msql_ctx\u001b[49m\u001b[38;5;241;43m.\u001b[39;49m\u001b[43m_conf\u001b[49m\u001b[38;5;241m.\u001b[39msessionLocalTimeZone()\n\u001b[1;32m     69\u001b[0m \u001b[38;5;28;01mif\u001b[39;00m \u001b[38;5;28mself\u001b[39m\u001b[38;5;241m.\u001b[39msql_ctx\u001b[38;5;241m.\u001b[39m_conf\u001b[38;5;241m.\u001b[39marrowPySparkEnabled():\n\u001b[1;32m     70\u001b[0m     use_arrow \u001b[38;5;241m=\u001b[39m \u001b[38;5;28;01mTrue\u001b[39;00m\n",
      "File \u001b[0;32m/usr/local/spark/python/pyspark/sql/context.py:109\u001b[0m, in \u001b[0;36mSQLContext._conf\u001b[0;34m(self)\u001b[0m\n\u001b[1;32m    106\u001b[0m \u001b[38;5;129m@property\u001b[39m\n\u001b[1;32m    107\u001b[0m \u001b[38;5;28;01mdef\u001b[39;00m \u001b[38;5;21m_conf\u001b[39m(\u001b[38;5;28mself\u001b[39m):\n\u001b[1;32m    108\u001b[0m     \u001b[38;5;124;03m\"\"\"Accessor for the JVM SQL-specific configurations\"\"\"\u001b[39;00m\n\u001b[0;32m--> 109\u001b[0m     \u001b[38;5;28;01mreturn\u001b[39;00m \u001b[38;5;28;43mself\u001b[39;49m\u001b[38;5;241;43m.\u001b[39;49m\u001b[43msparkSession\u001b[49m\u001b[38;5;241;43m.\u001b[39;49m\u001b[43m_jsparkSession\u001b[49m\u001b[38;5;241;43m.\u001b[39;49m\u001b[43msessionState\u001b[49m\u001b[43m(\u001b[49m\u001b[43m)\u001b[49m\u001b[38;5;241m.\u001b[39mconf()\n",
      "File \u001b[0;32m/usr/local/spark/python/lib/py4j-0.10.9.3-src.zip/py4j/java_gateway.py:1320\u001b[0m, in \u001b[0;36mJavaMember.__call__\u001b[0;34m(self, *args)\u001b[0m\n\u001b[1;32m   1313\u001b[0m args_command, temp_args \u001b[38;5;241m=\u001b[39m \u001b[38;5;28mself\u001b[39m\u001b[38;5;241m.\u001b[39m_build_args(\u001b[38;5;241m*\u001b[39margs)\n\u001b[1;32m   1315\u001b[0m command \u001b[38;5;241m=\u001b[39m proto\u001b[38;5;241m.\u001b[39mCALL_COMMAND_NAME \u001b[38;5;241m+\u001b[39m\\\n\u001b[1;32m   1316\u001b[0m     \u001b[38;5;28mself\u001b[39m\u001b[38;5;241m.\u001b[39mcommand_header \u001b[38;5;241m+\u001b[39m\\\n\u001b[1;32m   1317\u001b[0m     args_command \u001b[38;5;241m+\u001b[39m\\\n\u001b[1;32m   1318\u001b[0m     proto\u001b[38;5;241m.\u001b[39mEND_COMMAND_PART\n\u001b[0;32m-> 1320\u001b[0m answer \u001b[38;5;241m=\u001b[39m \u001b[38;5;28;43mself\u001b[39;49m\u001b[38;5;241;43m.\u001b[39;49m\u001b[43mgateway_client\u001b[49m\u001b[38;5;241;43m.\u001b[39;49m\u001b[43msend_command\u001b[49m\u001b[43m(\u001b[49m\u001b[43mcommand\u001b[49m\u001b[43m)\u001b[49m\n\u001b[1;32m   1321\u001b[0m return_value \u001b[38;5;241m=\u001b[39m get_return_value(\n\u001b[1;32m   1322\u001b[0m     answer, \u001b[38;5;28mself\u001b[39m\u001b[38;5;241m.\u001b[39mgateway_client, \u001b[38;5;28mself\u001b[39m\u001b[38;5;241m.\u001b[39mtarget_id, \u001b[38;5;28mself\u001b[39m\u001b[38;5;241m.\u001b[39mname)\n\u001b[1;32m   1324\u001b[0m \u001b[38;5;28;01mfor\u001b[39;00m temp_arg \u001b[38;5;129;01min\u001b[39;00m temp_args:\n",
      "File \u001b[0;32m/usr/local/spark/python/lib/py4j-0.10.9.3-src.zip/py4j/java_gateway.py:1036\u001b[0m, in \u001b[0;36mGatewayClient.send_command\u001b[0;34m(self, command, retry, binary)\u001b[0m\n\u001b[1;32m   1015\u001b[0m \u001b[38;5;28;01mdef\u001b[39;00m \u001b[38;5;21msend_command\u001b[39m(\u001b[38;5;28mself\u001b[39m, command, retry\u001b[38;5;241m=\u001b[39m\u001b[38;5;28;01mTrue\u001b[39;00m, binary\u001b[38;5;241m=\u001b[39m\u001b[38;5;28;01mFalse\u001b[39;00m):\n\u001b[1;32m   1016\u001b[0m     \u001b[38;5;124;03m\"\"\"Sends a command to the JVM. This method is not intended to be\u001b[39;00m\n\u001b[1;32m   1017\u001b[0m \u001b[38;5;124;03m       called directly by Py4J users. It is usually called by\u001b[39;00m\n\u001b[1;32m   1018\u001b[0m \u001b[38;5;124;03m       :class:`JavaMember` instances.\u001b[39;00m\n\u001b[0;32m   (...)\u001b[0m\n\u001b[1;32m   1034\u001b[0m \u001b[38;5;124;03m     if `binary` is `True`.\u001b[39;00m\n\u001b[1;32m   1035\u001b[0m \u001b[38;5;124;03m    \"\"\"\u001b[39;00m\n\u001b[0;32m-> 1036\u001b[0m     connection \u001b[38;5;241m=\u001b[39m \u001b[38;5;28;43mself\u001b[39;49m\u001b[38;5;241;43m.\u001b[39;49m\u001b[43m_get_connection\u001b[49m\u001b[43m(\u001b[49m\u001b[43m)\u001b[49m\n\u001b[1;32m   1037\u001b[0m     \u001b[38;5;28;01mtry\u001b[39;00m:\n\u001b[1;32m   1038\u001b[0m         response \u001b[38;5;241m=\u001b[39m connection\u001b[38;5;241m.\u001b[39msend_command(command)\n",
      "File \u001b[0;32m/usr/local/spark/python/lib/py4j-0.10.9.3-src.zip/py4j/clientserver.py:281\u001b[0m, in \u001b[0;36mJavaClient._get_connection\u001b[0;34m(self)\u001b[0m\n\u001b[1;32m    278\u001b[0m     \u001b[38;5;28;01mpass\u001b[39;00m\n\u001b[1;32m    280\u001b[0m \u001b[38;5;28;01mif\u001b[39;00m connection \u001b[38;5;129;01mis\u001b[39;00m \u001b[38;5;28;01mNone\u001b[39;00m \u001b[38;5;129;01mor\u001b[39;00m connection\u001b[38;5;241m.\u001b[39msocket \u001b[38;5;129;01mis\u001b[39;00m \u001b[38;5;28;01mNone\u001b[39;00m:\n\u001b[0;32m--> 281\u001b[0m     connection \u001b[38;5;241m=\u001b[39m \u001b[38;5;28;43mself\u001b[39;49m\u001b[38;5;241;43m.\u001b[39;49m\u001b[43m_create_new_connection\u001b[49m\u001b[43m(\u001b[49m\u001b[43m)\u001b[49m\n\u001b[1;32m    282\u001b[0m \u001b[38;5;28;01mreturn\u001b[39;00m connection\n",
      "File \u001b[0;32m/usr/local/spark/python/lib/py4j-0.10.9.3-src.zip/py4j/clientserver.py:288\u001b[0m, in \u001b[0;36mJavaClient._create_new_connection\u001b[0;34m(self)\u001b[0m\n\u001b[1;32m    284\u001b[0m \u001b[38;5;28;01mdef\u001b[39;00m \u001b[38;5;21m_create_new_connection\u001b[39m(\u001b[38;5;28mself\u001b[39m):\n\u001b[1;32m    285\u001b[0m     connection \u001b[38;5;241m=\u001b[39m ClientServerConnection(\n\u001b[1;32m    286\u001b[0m         \u001b[38;5;28mself\u001b[39m\u001b[38;5;241m.\u001b[39mjava_parameters, \u001b[38;5;28mself\u001b[39m\u001b[38;5;241m.\u001b[39mpython_parameters,\n\u001b[1;32m    287\u001b[0m         \u001b[38;5;28mself\u001b[39m\u001b[38;5;241m.\u001b[39mgateway_property, \u001b[38;5;28mself\u001b[39m)\n\u001b[0;32m--> 288\u001b[0m     \u001b[43mconnection\u001b[49m\u001b[38;5;241;43m.\u001b[39;49m\u001b[43mconnect_to_java_server\u001b[49m\u001b[43m(\u001b[49m\u001b[43m)\u001b[49m\n\u001b[1;32m    289\u001b[0m     \u001b[38;5;28mself\u001b[39m\u001b[38;5;241m.\u001b[39mset_thread_connection(connection)\n\u001b[1;32m    290\u001b[0m     \u001b[38;5;28;01mreturn\u001b[39;00m connection\n",
      "File \u001b[0;32m/usr/local/spark/python/lib/py4j-0.10.9.3-src.zip/py4j/clientserver.py:402\u001b[0m, in \u001b[0;36mClientServerConnection.connect_to_java_server\u001b[0;34m(self)\u001b[0m\n\u001b[1;32m    399\u001b[0m \u001b[38;5;28;01mif\u001b[39;00m \u001b[38;5;28mself\u001b[39m\u001b[38;5;241m.\u001b[39mssl_context:\n\u001b[1;32m    400\u001b[0m     \u001b[38;5;28mself\u001b[39m\u001b[38;5;241m.\u001b[39msocket \u001b[38;5;241m=\u001b[39m \u001b[38;5;28mself\u001b[39m\u001b[38;5;241m.\u001b[39mssl_context\u001b[38;5;241m.\u001b[39mwrap_socket(\n\u001b[1;32m    401\u001b[0m         \u001b[38;5;28mself\u001b[39m\u001b[38;5;241m.\u001b[39msocket, server_hostname\u001b[38;5;241m=\u001b[39m\u001b[38;5;28mself\u001b[39m\u001b[38;5;241m.\u001b[39mjava_address)\n\u001b[0;32m--> 402\u001b[0m \u001b[38;5;28;43mself\u001b[39;49m\u001b[38;5;241;43m.\u001b[39;49m\u001b[43msocket\u001b[49m\u001b[38;5;241;43m.\u001b[39;49m\u001b[43mconnect\u001b[49m\u001b[43m(\u001b[49m\u001b[43m(\u001b[49m\u001b[38;5;28;43mself\u001b[39;49m\u001b[38;5;241;43m.\u001b[39;49m\u001b[43mjava_address\u001b[49m\u001b[43m,\u001b[49m\u001b[43m \u001b[49m\u001b[38;5;28;43mself\u001b[39;49m\u001b[38;5;241;43m.\u001b[39;49m\u001b[43mjava_port\u001b[49m\u001b[43m)\u001b[49m\u001b[43m)\u001b[49m\n\u001b[1;32m    403\u001b[0m \u001b[38;5;28mself\u001b[39m\u001b[38;5;241m.\u001b[39mstream \u001b[38;5;241m=\u001b[39m \u001b[38;5;28mself\u001b[39m\u001b[38;5;241m.\u001b[39msocket\u001b[38;5;241m.\u001b[39mmakefile(\u001b[38;5;124m\"\u001b[39m\u001b[38;5;124mrb\u001b[39m\u001b[38;5;124m\"\u001b[39m)\n\u001b[1;32m    404\u001b[0m \u001b[38;5;28mself\u001b[39m\u001b[38;5;241m.\u001b[39mis_connected \u001b[38;5;241m=\u001b[39m \u001b[38;5;28;01mTrue\u001b[39;00m\n",
      "\u001b[0;31mConnectionRefusedError\u001b[0m: [Errno 111] Connection refused"
     ]
    }
   ],
   "source": [
    "pff = pr.toPandas()"
   ]
  },
  {
   "cell_type": "code",
   "execution_count": 64,
   "id": "eead94da-982f-4ab5-b80c-0d34661c92c2",
   "metadata": {},
   "outputs": [
    {
     "ename": "KeyError",
     "evalue": "'air temperature values'",
     "output_type": "error",
     "traceback": [
      "\u001b[0;31m---------------------------------------------------------------------------\u001b[0m",
      "\u001b[0;31mKeyError\u001b[0m                                  Traceback (most recent call last)",
      "File \u001b[0;32m/opt/conda/lib/python3.9/site-packages/pandas/core/indexes/base.py:3621\u001b[0m, in \u001b[0;36mIndex.get_loc\u001b[0;34m(self, key, method, tolerance)\u001b[0m\n\u001b[1;32m   3620\u001b[0m \u001b[38;5;28;01mtry\u001b[39;00m:\n\u001b[0;32m-> 3621\u001b[0m     \u001b[38;5;28;01mreturn\u001b[39;00m \u001b[38;5;28;43mself\u001b[39;49m\u001b[38;5;241;43m.\u001b[39;49m\u001b[43m_engine\u001b[49m\u001b[38;5;241;43m.\u001b[39;49m\u001b[43mget_loc\u001b[49m\u001b[43m(\u001b[49m\u001b[43mcasted_key\u001b[49m\u001b[43m)\u001b[49m\n\u001b[1;32m   3622\u001b[0m \u001b[38;5;28;01mexcept\u001b[39;00m \u001b[38;5;167;01mKeyError\u001b[39;00m \u001b[38;5;28;01mas\u001b[39;00m err:\n",
      "File \u001b[0;32m/opt/conda/lib/python3.9/site-packages/pandas/_libs/index.pyx:136\u001b[0m, in \u001b[0;36mpandas._libs.index.IndexEngine.get_loc\u001b[0;34m()\u001b[0m\n",
      "File \u001b[0;32m/opt/conda/lib/python3.9/site-packages/pandas/_libs/index.pyx:163\u001b[0m, in \u001b[0;36mpandas._libs.index.IndexEngine.get_loc\u001b[0;34m()\u001b[0m\n",
      "File \u001b[0;32mpandas/_libs/hashtable_class_helper.pxi:5198\u001b[0m, in \u001b[0;36mpandas._libs.hashtable.PyObjectHashTable.get_item\u001b[0;34m()\u001b[0m\n",
      "File \u001b[0;32mpandas/_libs/hashtable_class_helper.pxi:5206\u001b[0m, in \u001b[0;36mpandas._libs.hashtable.PyObjectHashTable.get_item\u001b[0;34m()\u001b[0m\n",
      "\u001b[0;31mKeyError\u001b[0m: 'air temperature values'",
      "\nThe above exception was the direct cause of the following exception:\n",
      "\u001b[0;31mKeyError\u001b[0m                                  Traceback (most recent call last)",
      "Input \u001b[0;32mIn [64]\u001b[0m, in \u001b[0;36m<cell line: 1>\u001b[0;34m()\u001b[0m\n\u001b[0;32m----> 1\u001b[0m \u001b[43mpff\u001b[49m\u001b[38;5;241;43m.\u001b[39;49m\u001b[43mplot\u001b[49m\u001b[43m(\u001b[49m\u001b[43mkind\u001b[49m\u001b[38;5;241;43m=\u001b[39;49m\u001b[38;5;124;43m'\u001b[39;49m\u001b[38;5;124;43mhist\u001b[39;49m\u001b[38;5;124;43m'\u001b[39;49m\u001b[43m,\u001b[49m\u001b[43mx\u001b[49m\u001b[38;5;241;43m=\u001b[39;49m\u001b[38;5;124;43m'\u001b[39;49m\u001b[38;5;124;43mair temperature values\u001b[39;49m\u001b[38;5;124;43m'\u001b[39;49m\u001b[43m,\u001b[49m\u001b[43my\u001b[49m\u001b[38;5;241;43m=\u001b[39;49m\u001b[38;5;124;43m'\u001b[39;49m\u001b[38;5;124;43mfrequencies\u001b[39;49m\u001b[38;5;124;43m'\u001b[39;49m\u001b[43m)\u001b[49m\n",
      "File \u001b[0;32m/opt/conda/lib/python3.9/site-packages/pandas/plotting/_core.py:937\u001b[0m, in \u001b[0;36mPlotAccessor.__call__\u001b[0;34m(self, *args, **kwargs)\u001b[0m\n\u001b[1;32m    935\u001b[0m \u001b[38;5;28;01mif\u001b[39;00m is_integer(x) \u001b[38;5;129;01mand\u001b[39;00m \u001b[38;5;129;01mnot\u001b[39;00m data\u001b[38;5;241m.\u001b[39mcolumns\u001b[38;5;241m.\u001b[39mholds_integer():\n\u001b[1;32m    936\u001b[0m     x \u001b[38;5;241m=\u001b[39m data_cols[x]\n\u001b[0;32m--> 937\u001b[0m \u001b[38;5;28;01melif\u001b[39;00m \u001b[38;5;129;01mnot\u001b[39;00m \u001b[38;5;28misinstance\u001b[39m(\u001b[43mdata\u001b[49m\u001b[43m[\u001b[49m\u001b[43mx\u001b[49m\u001b[43m]\u001b[49m, ABCSeries):\n\u001b[1;32m    938\u001b[0m     \u001b[38;5;28;01mraise\u001b[39;00m \u001b[38;5;167;01mValueError\u001b[39;00m(\u001b[38;5;124m\"\u001b[39m\u001b[38;5;124mx must be a label or position\u001b[39m\u001b[38;5;124m\"\u001b[39m)\n\u001b[1;32m    939\u001b[0m data \u001b[38;5;241m=\u001b[39m data\u001b[38;5;241m.\u001b[39mset_index(x)\n",
      "File \u001b[0;32m/opt/conda/lib/python3.9/site-packages/pandas/core/frame.py:3505\u001b[0m, in \u001b[0;36mDataFrame.__getitem__\u001b[0;34m(self, key)\u001b[0m\n\u001b[1;32m   3503\u001b[0m \u001b[38;5;28;01mif\u001b[39;00m \u001b[38;5;28mself\u001b[39m\u001b[38;5;241m.\u001b[39mcolumns\u001b[38;5;241m.\u001b[39mnlevels \u001b[38;5;241m>\u001b[39m \u001b[38;5;241m1\u001b[39m:\n\u001b[1;32m   3504\u001b[0m     \u001b[38;5;28;01mreturn\u001b[39;00m \u001b[38;5;28mself\u001b[39m\u001b[38;5;241m.\u001b[39m_getitem_multilevel(key)\n\u001b[0;32m-> 3505\u001b[0m indexer \u001b[38;5;241m=\u001b[39m \u001b[38;5;28;43mself\u001b[39;49m\u001b[38;5;241;43m.\u001b[39;49m\u001b[43mcolumns\u001b[49m\u001b[38;5;241;43m.\u001b[39;49m\u001b[43mget_loc\u001b[49m\u001b[43m(\u001b[49m\u001b[43mkey\u001b[49m\u001b[43m)\u001b[49m\n\u001b[1;32m   3506\u001b[0m \u001b[38;5;28;01mif\u001b[39;00m is_integer(indexer):\n\u001b[1;32m   3507\u001b[0m     indexer \u001b[38;5;241m=\u001b[39m [indexer]\n",
      "File \u001b[0;32m/opt/conda/lib/python3.9/site-packages/pandas/core/indexes/base.py:3623\u001b[0m, in \u001b[0;36mIndex.get_loc\u001b[0;34m(self, key, method, tolerance)\u001b[0m\n\u001b[1;32m   3621\u001b[0m     \u001b[38;5;28;01mreturn\u001b[39;00m \u001b[38;5;28mself\u001b[39m\u001b[38;5;241m.\u001b[39m_engine\u001b[38;5;241m.\u001b[39mget_loc(casted_key)\n\u001b[1;32m   3622\u001b[0m \u001b[38;5;28;01mexcept\u001b[39;00m \u001b[38;5;167;01mKeyError\u001b[39;00m \u001b[38;5;28;01mas\u001b[39;00m err:\n\u001b[0;32m-> 3623\u001b[0m     \u001b[38;5;28;01mraise\u001b[39;00m \u001b[38;5;167;01mKeyError\u001b[39;00m(key) \u001b[38;5;28;01mfrom\u001b[39;00m \u001b[38;5;21;01merr\u001b[39;00m\n\u001b[1;32m   3624\u001b[0m \u001b[38;5;28;01mexcept\u001b[39;00m \u001b[38;5;167;01mTypeError\u001b[39;00m:\n\u001b[1;32m   3625\u001b[0m     \u001b[38;5;66;03m# If we have a listlike key, _check_indexing_error will raise\u001b[39;00m\n\u001b[1;32m   3626\u001b[0m     \u001b[38;5;66;03m#  InvalidIndexError. Otherwise we fall through and re-raise\u001b[39;00m\n\u001b[1;32m   3627\u001b[0m     \u001b[38;5;66;03m#  the TypeError.\u001b[39;00m\n\u001b[1;32m   3628\u001b[0m     \u001b[38;5;28mself\u001b[39m\u001b[38;5;241m.\u001b[39m_check_indexing_error(key)\n",
      "\u001b[0;31mKeyError\u001b[0m: 'air temperature values'"
     ]
    }
   ],
   "source": [
    "pff.plot(kind='hist',x='air temperature values',y='frequencies')"
   ]
  },
  {
   "cell_type": "code",
   "execution_count": null,
   "id": "963a371d-2aa9-4078-bc06-bd22399bc4a7",
   "metadata": {},
   "outputs": [],
   "source": []
  }
 ],
 "metadata": {
  "kernelspec": {
   "display_name": "Python 3 (ipykernel)",
   "language": "python",
   "name": "python3"
  },
  "language_info": {
   "codemirror_mode": {
    "name": "ipython",
    "version": 3
   },
   "file_extension": ".py",
   "mimetype": "text/x-python",
   "name": "python",
   "nbconvert_exporter": "python",
   "pygments_lexer": "ipython3",
   "version": "3.9.10"
  }
 },
 "nbformat": 4,
 "nbformat_minor": 5
}
